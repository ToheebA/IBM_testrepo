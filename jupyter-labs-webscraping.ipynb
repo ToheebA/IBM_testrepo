{
 "cells": [
  {
   "cell_type": "markdown",
   "metadata": {},
   "source": [
    "<p style=\"text-align:center\">\n",
    "    <a href=\"https://skills.network\" target=\"_blank\">\n",
    "    <img src=\"https://cf-courses-data.s3.us.cloud-object-storage.appdomain.cloud/assets/logos/SN_web_lightmode.png\" width=\"200\" alt=\"Skills Network Logo\">\n",
    "    </a>\n",
    "</p>\n"
   ]
  },
  {
   "cell_type": "markdown",
   "metadata": {},
   "source": [
    "# **Space X  Falcon 9 First Stage Landing Prediction**\n"
   ]
  },
  {
   "cell_type": "markdown",
   "metadata": {},
   "source": [
    "## Web scraping Falcon 9 and Falcon Heavy Launches Records from Wikipedia\n"
   ]
  },
  {
   "cell_type": "markdown",
   "metadata": {},
   "source": [
    "Estimated time needed: **40** minutes\n"
   ]
  },
  {
   "cell_type": "markdown",
   "metadata": {},
   "source": [
    "In this lab, you will be performing web scraping to collect Falcon 9 historical launch records from a Wikipedia page titled `List of Falcon 9 and Falcon Heavy launches`\n",
    "\n",
    "https://en.wikipedia.org/wiki/List_of_Falcon_9_and_Falcon_Heavy_launches\n"
   ]
  },
  {
   "cell_type": "markdown",
   "metadata": {},
   "source": [
    "![](https://cf-courses-data.s3.us.cloud-object-storage.appdomain.cloud/IBM-DS0321EN-SkillsNetwork/labs/module_1_L2/images/Falcon9_rocket_family.svg)\n"
   ]
  },
  {
   "cell_type": "markdown",
   "metadata": {},
   "source": [
    "Falcon 9 first stage will land successfully\n"
   ]
  },
  {
   "cell_type": "markdown",
   "metadata": {},
   "source": [
    "![](https://cf-courses-data.s3.us.cloud-object-storage.appdomain.cloud/IBMDeveloperSkillsNetwork-DS0701EN-SkillsNetwork/api/Images/landing_1.gif)\n"
   ]
  },
  {
   "cell_type": "markdown",
   "metadata": {},
   "source": [
    "Several examples of an unsuccessful landing are shown here:\n"
   ]
  },
  {
   "cell_type": "markdown",
   "metadata": {},
   "source": [
    "![](https://cf-courses-data.s3.us.cloud-object-storage.appdomain.cloud/IBMDeveloperSkillsNetwork-DS0701EN-SkillsNetwork/api/Images/crash.gif)\n"
   ]
  },
  {
   "cell_type": "markdown",
   "metadata": {},
   "source": [
    "More specifically, the launch records are stored in a HTML table shown below:\n"
   ]
  },
  {
   "cell_type": "markdown",
   "metadata": {},
   "source": [
    "![](https://cf-courses-data.s3.us.cloud-object-storage.appdomain.cloud/IBM-DS0321EN-SkillsNetwork/labs/module_1_L2/images/falcon9-launches-wiki.png)\n"
   ]
  },
  {
   "cell_type": "markdown",
   "metadata": {},
   "source": [
    "  ## Objectives\n",
    "Web scrap Falcon 9 launch records with `BeautifulSoup`: \n",
    "- Extract a Falcon 9 launch records HTML table from Wikipedia\n",
    "- Parse the table and convert it into a Pandas data frame\n"
   ]
  },
  {
   "cell_type": "markdown",
   "metadata": {},
   "source": [
    "First let's import required packages for this lab\n"
   ]
  },
  {
   "cell_type": "code",
   "execution_count": 1,
   "metadata": {
    "tags": []
   },
   "outputs": [
    {
     "name": "stdout",
     "output_type": "stream",
     "text": [
      "Requirement already satisfied: beautifulsoup4 in /home/jupyterlab/conda/envs/python/lib/python3.7/site-packages (4.11.1)\n",
      "Requirement already satisfied: soupsieve>1.2 in /home/jupyterlab/conda/envs/python/lib/python3.7/site-packages (from beautifulsoup4) (2.3.2.post1)\n",
      "Requirement already satisfied: requests in /home/jupyterlab/conda/envs/python/lib/python3.7/site-packages (2.29.0)\n",
      "Requirement already satisfied: charset-normalizer<4,>=2 in /home/jupyterlab/conda/envs/python/lib/python3.7/site-packages (from requests) (3.1.0)\n",
      "Requirement already satisfied: idna<4,>=2.5 in /home/jupyterlab/conda/envs/python/lib/python3.7/site-packages (from requests) (3.4)\n",
      "Requirement already satisfied: urllib3<1.27,>=1.21.1 in /home/jupyterlab/conda/envs/python/lib/python3.7/site-packages (from requests) (1.26.15)\n",
      "Requirement already satisfied: certifi>=2017.4.17 in /home/jupyterlab/conda/envs/python/lib/python3.7/site-packages (from requests) (2023.5.7)\n"
     ]
    }
   ],
   "source": [
    "!pip3 install beautifulsoup4\n",
    "!pip3 install requests"
   ]
  },
  {
   "cell_type": "code",
   "execution_count": 2,
   "metadata": {
    "tags": []
   },
   "outputs": [],
   "source": [
    "import sys\n",
    "\n",
    "import requests\n",
    "from bs4 import BeautifulSoup\n",
    "import re\n",
    "import unicodedata\n",
    "import pandas as pd"
   ]
  },
  {
   "cell_type": "markdown",
   "metadata": {},
   "source": [
    "and we will provide some helper functions for you to process web scraped HTML table\n"
   ]
  },
  {
   "cell_type": "code",
   "execution_count": 3,
   "metadata": {
    "tags": []
   },
   "outputs": [],
   "source": [
    "def date_time(table_cells):\n",
    "    \"\"\"\n",
    "    This function returns the data and time from the HTML  table cell\n",
    "    Input: the  element of a table data cell extracts extra row\n",
    "    \"\"\"\n",
    "    return [data_time.strip() for data_time in list(table_cells.strings)][0:2]\n",
    "\n",
    "def booster_version(table_cells):\n",
    "    \"\"\"\n",
    "    This function returns the booster version from the HTML  table cell \n",
    "    Input: the  element of a table data cell extracts extra row\n",
    "    \"\"\"\n",
    "    out=''.join([booster_version for i,booster_version in enumerate( table_cells.strings) if i%2==0][0:-1])\n",
    "    return out\n",
    "\n",
    "def landing_status(table_cells):\n",
    "    \"\"\"\n",
    "    This function returns the landing status from the HTML table cell \n",
    "    Input: the  element of a table data cell extracts extra row\n",
    "    \"\"\"\n",
    "    out=[i for i in table_cells.strings][0]\n",
    "    return out\n",
    "\n",
    "\n",
    "def get_mass(table_cells):\n",
    "    mass=unicodedata.normalize(\"NFKD\", table_cells.text).strip()\n",
    "    if mass:\n",
    "        mass.find(\"kg\")\n",
    "        new_mass=mass[0:mass.find(\"kg\")+2]\n",
    "    else:\n",
    "        new_mass=0\n",
    "    return new_mass\n",
    "\n",
    "\n",
    "def extract_column_from_header(row):\n",
    "    \"\"\"\n",
    "    This function returns the landing status from the HTML table cell \n",
    "    Input: the  element of a table data cell extracts extra row\n",
    "    \"\"\"\n",
    "    if (row.br):\n",
    "        row.br.extract()\n",
    "    if row.a:\n",
    "        row.a.extract()\n",
    "    if row.sup:\n",
    "        row.sup.extract()\n",
    "        \n",
    "    colunm_name = ' '.join(row.contents)\n",
    "    \n",
    "    # Filter the digit and empty names\n",
    "    if not(colunm_name.strip().isdigit()):\n",
    "        colunm_name = colunm_name.strip()\n",
    "        return colunm_name    \n"
   ]
  },
  {
   "cell_type": "markdown",
   "metadata": {},
   "source": [
    "To keep the lab tasks consistent, you will be asked to scrape the data from a snapshot of the  `List of Falcon 9 and Falcon Heavy launches` Wikipage updated on\n",
    "`9th June 2021`\n"
   ]
  },
  {
   "cell_type": "code",
   "execution_count": 4,
   "metadata": {
    "tags": []
   },
   "outputs": [],
   "source": [
    "static_url = \"https://en.wikipedia.org/w/index.php?title=List_of_Falcon_9_and_Falcon_Heavy_launches&oldid=1027686922\""
   ]
  },
  {
   "cell_type": "markdown",
   "metadata": {},
   "source": [
    "Next, request the HTML page from the above URL and get a `response` object\n"
   ]
  },
  {
   "cell_type": "markdown",
   "metadata": {},
   "source": [
    "### TASK 1: Request the Falcon9 Launch Wiki page from its URL\n"
   ]
  },
  {
   "cell_type": "markdown",
   "metadata": {},
   "source": [
    "First, let's perform an HTTP GET method to request the Falcon9 Launch HTML page, as an HTTP response.\n"
   ]
  },
  {
   "cell_type": "code",
   "execution_count": 5,
   "metadata": {
    "tags": []
   },
   "outputs": [],
   "source": [
    "# use requests.get() method with the provided static_url\n",
    "# assign the response to a object\n",
    "response = requests.get(static_url)"
   ]
  },
  {
   "cell_type": "markdown",
   "metadata": {},
   "source": [
    "Create a `BeautifulSoup` object from the HTML `response`\n"
   ]
  },
  {
   "cell_type": "code",
   "execution_count": 6,
   "metadata": {
    "tags": []
   },
   "outputs": [],
   "source": [
    "# Use BeautifulSoup() to create a BeautifulSoup object from a response text content\n",
    "soup =BeautifulSoup(response.text, \"html.parser\")"
   ]
  },
  {
   "cell_type": "markdown",
   "metadata": {},
   "source": [
    "Print the page title to verify if the `BeautifulSoup` object was created properly \n"
   ]
  },
  {
   "cell_type": "code",
   "execution_count": 7,
   "metadata": {
    "tags": []
   },
   "outputs": [
    {
     "data": {
      "text/plain": [
       "<title>List of Falcon 9 and Falcon Heavy launches - Wikipedia</title>"
      ]
     },
     "execution_count": 7,
     "metadata": {},
     "output_type": "execute_result"
    }
   ],
   "source": [
    "# Use soup.title attribute\n",
    "soup.title"
   ]
  },
  {
   "cell_type": "markdown",
   "metadata": {},
   "source": [
    "### TASK 2: Extract all column/variable names from the HTML table header\n"
   ]
  },
  {
   "cell_type": "markdown",
   "metadata": {},
   "source": [
    "Next, we want to collect all relevant column names from the HTML table header\n"
   ]
  },
  {
   "cell_type": "markdown",
   "metadata": {},
   "source": [
    "Let's try to find all tables on the wiki page first. If you need to refresh your memory about `BeautifulSoup`, please check the external reference link towards the end of this lab\n"
   ]
  },
  {
   "cell_type": "code",
   "execution_count": 8,
   "metadata": {
    "tags": []
   },
   "outputs": [],
   "source": [
    "# Use the find_all function in the BeautifulSoup object, with element type `table`\n",
    "# Assign the result to a list called `html_tables`\n",
    "html_tables = soup.find_all('table')"
   ]
  },
  {
   "cell_type": "markdown",
   "metadata": {},
   "source": [
    "Starting from the third table is our target table contains the actual launch records.\n"
   ]
  },
  {
   "cell_type": "code",
   "execution_count": 26,
   "metadata": {
    "tags": []
   },
   "outputs": [
    {
     "name": "stdout",
     "output_type": "stream",
     "text": [
      "<table class=\"wikitable plainrowheaders collapsible\" style=\"width: 100%;\">\n",
      "<tbody><tr>\n",
      "<th scope=\"col\">Flight No.\n",
      "</th>\n",
      "<th scope=\"col\">Date andtime ()\n",
      "</th>\n",
      "<th scope=\"col\"> \n",
      "</th>\n",
      "<th scope=\"col\">Launch site\n",
      "</th>\n",
      "<th scope=\"col\">Payload\n",
      "</th>\n",
      "<th scope=\"col\">Payload mass\n",
      "</th>\n",
      "<th scope=\"col\">Orbit\n",
      "</th>\n",
      "<th scope=\"col\">Customer\n",
      "</th>\n",
      "<th scope=\"col\">Launchoutcome\n",
      "</th>\n",
      "<th scope=\"col\">\n",
      "</th></tr>\n",
      "<tr>\n",
      "<th rowspan=\"2\" scope=\"row\" style=\"text-align:center;\">1\n",
      "</th>\n",
      "<td>4 June 2010,<br/>18:45\n",
      "</td>\n",
      "<td><a href=\"/wiki/Falcon_9_v1.0\" title=\"Falcon 9 v1.0\">F9 v1.0</a><sup class=\"reference\" id=\"cite_ref-MuskMay2012_13-0\"><a href=\"#cite_note-MuskMay2012-13\">[7]</a></sup><br/>B0003.1<sup class=\"reference\" id=\"cite_ref-block_numbers_14-0\"><a href=\"#cite_note-block_numbers-14\">[8]</a></sup>\n",
      "</td>\n",
      "<td><a href=\"/wiki/Cape_Canaveral_Space_Force_Station\" title=\"Cape Canaveral Space Force Station\">CCAFS</a>,<br/><a href=\"/wiki/Cape_Canaveral_Space_Launch_Complex_40\" title=\"Cape Canaveral Space Launch Complex 40\">SLC-40</a>\n",
      "</td>\n",
      "<td><a href=\"/wiki/Dragon_Spacecraft_Qualification_Unit\" title=\"Dragon Spacecraft Qualification Unit\">Dragon Spacecraft Qualification Unit</a>\n",
      "</td>\n",
      "<td>\n",
      "</td>\n",
      "<td><a href=\"/wiki/Low_Earth_orbit\" title=\"Low Earth orbit\">LEO</a>\n",
      "</td>\n",
      "<td><a href=\"/wiki/SpaceX\" title=\"SpaceX\">SpaceX</a>\n",
      "</td>\n",
      "<td class=\"table-success\" style=\"background: #9EFF9E; vertical-align: middle; text-align: center;\">Success\n",
      "</td>\n",
      "<td class=\"table-failure\" style=\"background: #FFC7C7; vertical-align: middle; text-align: center;\">Failure<sup class=\"reference\" id=\"cite_ref-ns20110930_15-0\"><a href=\"#cite_note-ns20110930-15\">[9]</a></sup><sup class=\"reference\" id=\"cite_ref-16\"><a href=\"#cite_note-16\">[10]</a></sup><br/><small>(parachute)</small>\n",
      "</td></tr>\n",
      "<tr>\n",
      "<td colspan=\"9\">First flight of Falcon 9 v1.0.<sup class=\"reference\" id=\"cite_ref-sfn20100604_17-0\"><a href=\"#cite_note-sfn20100604-17\">[11]</a></sup> Used a boilerplate version of Dragon capsule which was not designed to separate from the second stage.<small>(<a href=\"#First_flight_of_Falcon_9\">more details below</a>)</small> Attempted to recover the first stage by parachuting it into the ocean, but it burned up on reentry, before the parachutes even deployed.<sup class=\"reference\" id=\"cite_ref-parachute_18-0\"><a href=\"#cite_note-parachute-18\">[12]</a></sup>\n",
      "</td></tr>\n",
      "<tr>\n",
      "<th rowspan=\"2\" scope=\"row\" style=\"text-align:center;\">2\n",
      "</th>\n",
      "<td>8 December 2010,<br/>15:43<sup class=\"reference\" id=\"cite_ref-spaceflightnow_Clark_Launch_Report_19-0\"><a href=\"#cite_note-spaceflightnow_Clark_Launch_Report-19\">[13]</a></sup>\n",
      "</td>\n",
      "<td><a href=\"/wiki/Falcon_9_v1.0\" title=\"Falcon 9 v1.0\">F9 v1.0</a><sup class=\"reference\" id=\"cite_ref-MuskMay2012_13-1\"><a href=\"#cite_note-MuskMay2012-13\">[7]</a></sup><br/>B0004.1<sup class=\"reference\" id=\"cite_ref-block_numbers_14-1\"><a href=\"#cite_note-block_numbers-14\">[8]</a></sup>\n",
      "</td>\n",
      "<td><a href=\"/wiki/Cape_Canaveral_Space_Force_Station\" title=\"Cape Canaveral Space Force Station\">CCAFS</a>,<br/><a href=\"/wiki/Cape_Canaveral_Space_Launch_Complex_40\" title=\"Cape Canaveral Space Launch Complex 40\">SLC-40</a>\n",
      "</td>\n",
      "<td><a href=\"/wiki/SpaceX_Dragon\" title=\"SpaceX Dragon\">Dragon</a> <a class=\"mw-redirect\" href=\"/wiki/COTS_Demo_Flight_1\" title=\"COTS Demo Flight 1\">demo flight C1</a><br/>(Dragon C101)\n",
      "</td>\n",
      "<td>\n",
      "</td>\n",
      "<td><a href=\"/wiki/Low_Earth_orbit\" title=\"Low Earth orbit\">LEO</a> (<a href=\"/wiki/International_Space_Station\" title=\"International Space Station\">ISS</a>)\n",
      "</td>\n",
      "<td><style data-mw-deduplicate=\"TemplateStyles:r1126788409\">.mw-parser-output .plainlist ol,.mw-parser-output .plainlist ul{line-height:inherit;list-style:none;margin:0;padding:0}.mw-parser-output .plainlist ol li,.mw-parser-output .plainlist ul li{margin-bottom:0}</style><div class=\"plainlist\">\n",
      "<ul><li><a href=\"/wiki/NASA\" title=\"NASA\">NASA</a> (<a href=\"/wiki/Commercial_Orbital_Transportation_Services\" title=\"Commercial Orbital Transportation Services\">COTS</a>)</li>\n",
      "<li><a href=\"/wiki/National_Reconnaissance_Office\" title=\"National Reconnaissance Office\">NRO</a></li></ul>\n",
      "</div>\n",
      "</td>\n",
      "<td class=\"table-success\" style=\"background: #9EFF9E; vertical-align: middle; text-align: center;\">Success<sup class=\"reference\" id=\"cite_ref-ns20110930_15-1\"><a href=\"#cite_note-ns20110930-15\">[9]</a></sup>\n",
      "</td>\n",
      "<td class=\"table-failure\" style=\"background: #FFC7C7; vertical-align: middle; text-align: center;\">Failure<sup class=\"reference\" id=\"cite_ref-ns20110930_15-2\"><a href=\"#cite_note-ns20110930-15\">[9]</a></sup><sup class=\"reference\" id=\"cite_ref-20\"><a href=\"#cite_note-20\">[14]</a></sup><br/><small>(parachute)</small>\n",
      "</td></tr>\n",
      "<tr>\n",
      "<td colspan=\"9\">Maiden flight of <a class=\"mw-redirect\" href=\"/wiki/Dragon_capsule\" title=\"Dragon capsule\">Dragon capsule</a>, consisting of over 3 hours of testing thruster maneuvering and reentry.<sup class=\"reference\" id=\"cite_ref-spaceflightnow_Clark_unleashing_Dragon_21-0\"><a href=\"#cite_note-spaceflightnow_Clark_unleashing_Dragon-21\">[15]</a></sup> Attempted to recover the first stage by parachuting it into the ocean, but it disintegrated upon reentry, before the parachutes were deployed.<sup class=\"reference\" id=\"cite_ref-parachute_18-1\"><a href=\"#cite_note-parachute-18\">[12]</a></sup> <small>(<a href=\"#COTS_demo_missions\">more details below</a>)</small> It also included two <a href=\"/wiki/CubeSat\" title=\"CubeSat\">CubeSats</a>,<sup class=\"reference\" id=\"cite_ref-NRO_Taps_Boeing_for_Next_Batch_of_CubeSats_22-0\"><a href=\"#cite_note-NRO_Taps_Boeing_for_Next_Batch_of_CubeSats-22\">[16]</a></sup> and a wheel of <a href=\"/wiki/Brou%C3%A8re\" title=\"Brouère\">Brouère</a> cheese.\n",
      "</td></tr>\n",
      "<tr>\n",
      "<th rowspan=\"2\" scope=\"row\" style=\"text-align:center;\">3\n",
      "</th>\n",
      "<td>22 May 2012,<br/>07:44<sup class=\"reference\" id=\"cite_ref-BBC_new_era_23-0\"><a href=\"#cite_note-BBC_new_era-23\">[17]</a></sup>\n",
      "</td>\n",
      "<td><a href=\"/wiki/Falcon_9_v1.0\" title=\"Falcon 9 v1.0\">F9 v1.0</a><sup class=\"reference\" id=\"cite_ref-MuskMay2012_13-2\"><a href=\"#cite_note-MuskMay2012-13\">[7]</a></sup><br/>B0005.1<sup class=\"reference\" id=\"cite_ref-block_numbers_14-2\"><a href=\"#cite_note-block_numbers-14\">[8]</a></sup>\n",
      "</td>\n",
      "<td><a href=\"/wiki/Cape_Canaveral_Space_Force_Station\" title=\"Cape Canaveral Space Force Station\">CCAFS</a>,<br/><a href=\"/wiki/Cape_Canaveral_Space_Launch_Complex_40\" title=\"Cape Canaveral Space Launch Complex 40\">SLC-40</a>\n",
      "</td>\n",
      "<td><a href=\"/wiki/SpaceX_Dragon\" title=\"SpaceX Dragon\">Dragon</a> <a class=\"mw-redirect\" href=\"/wiki/Dragon_C2%2B\" title=\"Dragon C2+\">demo flight C2+</a><sup class=\"reference\" id=\"cite_ref-C2_24-0\"><a href=\"#cite_note-C2-24\">[18]</a></sup><br/>(Dragon C102)\n",
      "</td>\n",
      "<td>525 kg (1,157 lb)<sup class=\"reference\" id=\"cite_ref-25\"><a href=\"#cite_note-25\">[19]</a></sup>\n",
      "</td>\n",
      "<td><a href=\"/wiki/Low_Earth_orbit\" title=\"Low Earth orbit\">LEO</a> (<a href=\"/wiki/International_Space_Station\" title=\"International Space Station\">ISS</a>)\n",
      "</td>\n",
      "<td><a href=\"/wiki/NASA\" title=\"NASA\">NASA</a> (<a href=\"/wiki/Commercial_Orbital_Transportation_Services\" title=\"Commercial Orbital Transportation Services\">COTS</a>)\n",
      "</td>\n",
      "<td class=\"table-success\" style=\"background: #9EFF9E; vertical-align: middle; text-align: center;\">Success<sup class=\"reference\" id=\"cite_ref-26\"><a href=\"#cite_note-26\">[20]</a></sup>\n",
      "</td>\n",
      "<td class=\"table-noAttempt\" style=\"background: #EEE; vertical-align: middle; white-space: nowrap; text-align: center;\">No attempt\n",
      "</td></tr>\n",
      "<tr>\n",
      "<td colspan=\"9\">Dragon spacecraft demonstrated a series of tests before it was allowed to approach the <a href=\"/wiki/International_Space_Station\" title=\"International Space Station\">International Space Station</a>. Two days later, it became the first commercial spacecraft to board the ISS.<sup class=\"reference\" id=\"cite_ref-BBC_new_era_23-1\"><a href=\"#cite_note-BBC_new_era-23\">[17]</a></sup> <small>(<a href=\"#COTS_demo_missions\">more details below</a>)</small>\n",
      "</td></tr>\n",
      "<tr>\n",
      "<th rowspan=\"3\" scope=\"row\" style=\"text-align:center;\">4\n",
      "</th>\n",
      "<td rowspan=\"2\">8 October 2012,<br/>00:35<sup class=\"reference\" id=\"cite_ref-SFN_LLog_27-0\"><a href=\"#cite_note-SFN_LLog-27\">[21]</a></sup>\n",
      "</td>\n",
      "<td rowspan=\"2\"><a href=\"/wiki/Falcon_9_v1.0\" title=\"Falcon 9 v1.0\">F9 v1.0</a><sup class=\"reference\" id=\"cite_ref-MuskMay2012_13-3\"><a href=\"#cite_note-MuskMay2012-13\">[7]</a></sup><br/>B0006.1<sup class=\"reference\" id=\"cite_ref-block_numbers_14-3\"><a href=\"#cite_note-block_numbers-14\">[8]</a></sup>\n",
      "</td>\n",
      "<td rowspan=\"2\"><a href=\"/wiki/Cape_Canaveral_Space_Force_Station\" title=\"Cape Canaveral Space Force Station\">CCAFS</a>,<br/><a href=\"/wiki/Cape_Canaveral_Space_Launch_Complex_40\" title=\"Cape Canaveral Space Launch Complex 40\">SLC-40</a>\n",
      "</td>\n",
      "<td><a href=\"/wiki/SpaceX_CRS-1\" title=\"SpaceX CRS-1\">SpaceX CRS-1</a><sup class=\"reference\" id=\"cite_ref-sxManifest20120925_28-0\"><a href=\"#cite_note-sxManifest20120925-28\">[22]</a></sup><br/>(Dragon C103)\n",
      "</td>\n",
      "<td>4,700 kg (10,400 lb)\n",
      "</td>\n",
      "<td><a href=\"/wiki/Low_Earth_orbit\" title=\"Low Earth orbit\">LEO</a> (<a href=\"/wiki/International_Space_Station\" title=\"International Space Station\">ISS</a>)\n",
      "</td>\n",
      "<td><a href=\"/wiki/NASA\" title=\"NASA\">NASA</a> (<a href=\"/wiki/Commercial_Resupply_Services\" title=\"Commercial Resupply Services\">CRS</a>)\n",
      "</td>\n",
      "<td class=\"table-success\" style=\"background: #9EFF9E; vertical-align: middle; text-align: center;\">Success\n",
      "</td>\n",
      "<td rowspan=\"2\" style=\"background:#ececec; text-align:center;\"><span class=\"nowrap\">No attempt</span>\n",
      "</td></tr>\n",
      "<tr>\n",
      "<td><a href=\"/wiki/Orbcomm_(satellite)\" title=\"Orbcomm (satellite)\">Orbcomm-OG2</a><sup class=\"reference\" id=\"cite_ref-Orbcomm_29-0\"><a href=\"#cite_note-Orbcomm-29\">[23]</a></sup>\n",
      "</td>\n",
      "<td>172 kg (379 lb)<sup class=\"reference\" id=\"cite_ref-gunter-og2_30-0\"><a href=\"#cite_note-gunter-og2-30\">[24]</a></sup>\n",
      "</td>\n",
      "<td><a href=\"/wiki/Low_Earth_orbit\" title=\"Low Earth orbit\">LEO</a>\n",
      "</td>\n",
      "<td><a href=\"/wiki/Orbcomm\" title=\"Orbcomm\">Orbcomm</a>\n",
      "</td>\n",
      "<td class=\"table-partial\" style=\"background: #FE9; vertical-align: middle; text-align: center;\">Partial failure<sup class=\"reference\" id=\"cite_ref-nyt-20121030_31-0\"><a href=\"#cite_note-nyt-20121030-31\">[25]</a></sup>\n",
      "</td></tr>\n",
      "<tr>\n",
      "<td colspan=\"9\">CRS-1 was successful, but the <a href=\"/wiki/Secondary_payload\" title=\"Secondary payload\">secondary payload</a> was inserted into an abnormally low orbit and subsequently lost. This was due to one of the nine <a href=\"/wiki/SpaceX_Merlin\" title=\"SpaceX Merlin\">Merlin engines</a> shutting down during the launch, and NASA declining a second reignition, as per <a href=\"/wiki/International_Space_Station\" title=\"International Space Station\">ISS</a> visiting vehicle safety rules, the primary payload owner is contractually allowed to decline a second reignition. NASA stated that this was because SpaceX could not guarantee a high enough likelihood of the second stage completing the second burn successfully which was required to avoid any risk of secondary payload's collision with the ISS.<sup class=\"reference\" id=\"cite_ref-OrbcommTotalLoss_32-0\"><a href=\"#cite_note-OrbcommTotalLoss-32\">[26]</a></sup><sup class=\"reference\" id=\"cite_ref-sn20121011_33-0\"><a href=\"#cite_note-sn20121011-33\">[27]</a></sup><sup class=\"reference\" id=\"cite_ref-34\"><a href=\"#cite_note-34\">[28]</a></sup>\n",
      "</td></tr>\n",
      "<tr>\n",
      "<th rowspan=\"2\" scope=\"row\" style=\"text-align:center;\">5\n",
      "</th>\n",
      "<td>1 March 2013,<br/>15:10\n",
      "</td>\n",
      "<td><a href=\"/wiki/Falcon_9_v1.0\" title=\"Falcon 9 v1.0\">F9 v1.0</a><sup class=\"reference\" id=\"cite_ref-MuskMay2012_13-4\"><a href=\"#cite_note-MuskMay2012-13\">[7]</a></sup><br/>B0007.1<sup class=\"reference\" id=\"cite_ref-block_numbers_14-4\"><a href=\"#cite_note-block_numbers-14\">[8]</a></sup>\n",
      "</td>\n",
      "<td><a href=\"/wiki/Cape_Canaveral_Space_Force_Station\" title=\"Cape Canaveral Space Force Station\">CCAFS</a>,<br/><a href=\"/wiki/Cape_Canaveral_Space_Launch_Complex_40\" title=\"Cape Canaveral Space Launch Complex 40\">SLC-40</a>\n",
      "</td>\n",
      "<td><a href=\"/wiki/SpaceX_CRS-2\" title=\"SpaceX CRS-2\">SpaceX CRS-2</a><sup class=\"reference\" id=\"cite_ref-sxManifest20120925_28-1\"><a href=\"#cite_note-sxManifest20120925-28\">[22]</a></sup><br/>(Dragon C104)\n",
      "</td>\n",
      "<td>4,877 kg (10,752 lb)\n",
      "</td>\n",
      "<td><a href=\"/wiki/Low_Earth_orbit\" title=\"Low Earth orbit\">LEO</a> (<a class=\"mw-redirect\" href=\"/wiki/ISS\" title=\"ISS\">ISS</a>)\n",
      "</td>\n",
      "<td><a href=\"/wiki/NASA\" title=\"NASA\">NASA</a> (<a href=\"/wiki/Commercial_Resupply_Services\" title=\"Commercial Resupply Services\">CRS</a>)\n",
      "</td>\n",
      "<td class=\"table-success\" style=\"background: #9EFF9E; vertical-align: middle; text-align: center;\">Success\n",
      "</td>\n",
      "<td class=\"table-noAttempt\" style=\"background: #EEE; vertical-align: middle; white-space: nowrap; text-align: center;\">No attempt\n",
      "</td></tr>\n",
      "<tr>\n",
      "<td colspan=\"9\">Last launch of the original Falcon 9 v1.0 <a href=\"/wiki/Launch_vehicle\" title=\"Launch vehicle\">launch vehicle</a>, first use of the unpressurized trunk section of Dragon.<sup class=\"reference\" id=\"cite_ref-sxf9_20110321_35-0\"><a href=\"#cite_note-sxf9_20110321-35\">[29]</a></sup>\n",
      "</td></tr>\n",
      "<tr>\n",
      "<th rowspan=\"2\" scope=\"row\" style=\"text-align:center;\">6\n",
      "</th>\n",
      "<td>29 September 2013,<br/>16:00<sup class=\"reference\" id=\"cite_ref-pa20130930_36-0\"><a href=\"#cite_note-pa20130930-36\">[30]</a></sup>\n",
      "</td>\n",
      "<td><a href=\"/wiki/Falcon_9_v1.1\" title=\"Falcon 9 v1.1\">F9 v1.1</a><sup class=\"reference\" id=\"cite_ref-MuskMay2012_13-5\"><a href=\"#cite_note-MuskMay2012-13\">[7]</a></sup><br/>B1003<sup class=\"reference\" id=\"cite_ref-block_numbers_14-5\"><a href=\"#cite_note-block_numbers-14\">[8]</a></sup>\n",
      "</td>\n",
      "<td><a class=\"mw-redirect\" href=\"/wiki/Vandenberg_Air_Force_Base\" title=\"Vandenberg Air Force Base\">VAFB</a>,<br/><a href=\"/wiki/Vandenberg_Space_Launch_Complex_4\" title=\"Vandenberg Space Launch Complex 4\">SLC-4E</a>\n",
      "</td>\n",
      "<td><a href=\"/wiki/CASSIOPE\" title=\"CASSIOPE\">CASSIOPE</a><sup class=\"reference\" id=\"cite_ref-sxManifest20120925_28-2\"><a href=\"#cite_note-sxManifest20120925-28\">[22]</a></sup><sup class=\"reference\" id=\"cite_ref-CASSIOPE_MDA_37-0\"><a href=\"#cite_note-CASSIOPE_MDA-37\">[31]</a></sup>\n",
      "</td>\n",
      "<td>500 kg (1,100 lb)\n",
      "</td>\n",
      "<td><a href=\"/wiki/Polar_orbit\" title=\"Polar orbit\">Polar orbit</a> <a href=\"/wiki/Low_Earth_orbit\" title=\"Low Earth orbit\">LEO</a>\n",
      "</td>\n",
      "<td><a href=\"/wiki/Maxar_Technologies\" title=\"Maxar Technologies\">MDA</a>\n",
      "</td>\n",
      "<td class=\"table-success\" style=\"background: #9EFF9E; vertical-align: middle; text-align: center;\">Success<sup class=\"reference\" id=\"cite_ref-pa20130930_36-1\"><a href=\"#cite_note-pa20130930-36\">[30]</a></sup>\n",
      "</td>\n",
      "<td class=\"table-no2\" style=\"background: #FFE3E3; color: black; vertical-align: middle; text-align: center;\">Uncontrolled<br/><small>(ocean)</small><sup class=\"reference\" id=\"cite_ref-ocean_landing_38-0\"><a href=\"#cite_note-ocean_landing-38\">[d]</a></sup>\n",
      "</td></tr>\n",
      "<tr>\n",
      "<td colspan=\"9\">First commercial mission with a private customer, first launch from Vandenberg, and demonstration flight of Falcon 9 v1.1 with an improved 13-tonne to LEO capacity.<sup class=\"reference\" id=\"cite_ref-sxf9_20110321_35-1\"><a href=\"#cite_note-sxf9_20110321-35\">[29]</a></sup> After separation from the second stage carrying Canadian commercial and scientific satellites, the first stage booster performed a controlled reentry,<sup class=\"reference\" id=\"cite_ref-39\"><a href=\"#cite_note-39\">[32]</a></sup> and an <a href=\"/wiki/Falcon_9_first-stage_landing_tests\" title=\"Falcon 9 first-stage landing tests\">ocean touchdown test</a> for the first time. This provided good test data, even though the booster started rolling as it neared the ocean, leading to the shutdown of the central engine as the roll depleted it of fuel, resulting in a hard impact with the ocean.<sup class=\"reference\" id=\"cite_ref-pa20130930_36-2\"><a href=\"#cite_note-pa20130930-36\">[30]</a></sup> This was the first known attempt of a rocket engine being lit to perform a supersonic retro propulsion, and allowed SpaceX to enter a public-private partnership with <a href=\"/wiki/NASA\" title=\"NASA\">NASA</a> and its Mars entry, descent, and landing technologies research projects.<sup class=\"reference\" id=\"cite_ref-40\"><a href=\"#cite_note-40\">[33]</a></sup> <small>(<a href=\"#Maiden_flight_of_v1.1\">more details below</a>)</small>\n",
      "</td></tr>\n",
      "<tr>\n",
      "<th rowspan=\"2\" scope=\"row\" style=\"text-align:center;\">7\n",
      "</th>\n",
      "<td>3 December 2013,<br/>22:41<sup class=\"reference\" id=\"cite_ref-sfn_wwls20130624_41-0\"><a href=\"#cite_note-sfn_wwls20130624-41\">[34]</a></sup>\n",
      "</td>\n",
      "<td><a href=\"/wiki/Falcon_9_v1.1\" title=\"Falcon 9 v1.1\">F9 v1.1</a><br/>B1004\n",
      "</td>\n",
      "<td><a href=\"/wiki/Cape_Canaveral_Space_Force_Station\" title=\"Cape Canaveral Space Force Station\">CCAFS</a>,<br/><a href=\"/wiki/Cape_Canaveral_Space_Launch_Complex_40\" title=\"Cape Canaveral Space Launch Complex 40\">SLC-40</a>\n",
      "</td>\n",
      "<td><a href=\"/wiki/SES-8\" title=\"SES-8\">SES-8</a><sup class=\"reference\" id=\"cite_ref-sxManifest20120925_28-3\"><a href=\"#cite_note-sxManifest20120925-28\">[22]</a></sup><sup class=\"reference\" id=\"cite_ref-spx-pr_42-0\"><a href=\"#cite_note-spx-pr-42\">[35]</a></sup><sup class=\"reference\" id=\"cite_ref-aw20110323_43-0\"><a href=\"#cite_note-aw20110323-43\">[36]</a></sup>\n",
      "</td>\n",
      "<td>3,170 kg (6,990 lb)\n",
      "</td>\n",
      "<td><a href=\"/wiki/Geostationary_transfer_orbit\" title=\"Geostationary transfer orbit\">GTO</a>\n",
      "</td>\n",
      "<td><a href=\"/wiki/SES_S.A.\" title=\"SES S.A.\">SES</a>\n",
      "</td>\n",
      "<td class=\"table-success\" style=\"background: #9EFF9E; vertical-align: middle; text-align: center;\">Success<sup class=\"reference\" id=\"cite_ref-SNMissionStatus7_44-0\"><a href=\"#cite_note-SNMissionStatus7-44\">[37]</a></sup>\n",
      "</td>\n",
      "<td class=\"table-noAttempt\" style=\"background: #EEE; vertical-align: middle; white-space: nowrap; text-align: center;\">No attempt<br/><sup class=\"reference\" id=\"cite_ref-sf10120131203_45-0\"><a href=\"#cite_note-sf10120131203-45\">[38]</a></sup>\n",
      "</td></tr>\n",
      "<tr>\n",
      "<td colspan=\"9\">First <a href=\"/wiki/Geostationary_transfer_orbit\" title=\"Geostationary transfer orbit\">Geostationary transfer orbit</a> (GTO) launch for Falcon 9,<sup class=\"reference\" id=\"cite_ref-spx-pr_42-1\"><a href=\"#cite_note-spx-pr-42\">[35]</a></sup> and first successful reignition of the second stage.<sup class=\"reference\" id=\"cite_ref-46\"><a href=\"#cite_note-46\">[39]</a></sup> SES-8 was inserted into a <a href=\"/wiki/Geostationary_transfer_orbit\" title=\"Geostationary transfer orbit\">Super-Synchronous Transfer Orbit</a> of 79,341 km (49,300 mi) in apogee with an <a href=\"/wiki/Orbital_inclination\" title=\"Orbital inclination\">inclination</a> of 20.55° to the <a href=\"/wiki/Equator\" title=\"Equator\">equator</a>.\n",
      "</td></tr></tbody></table>\n"
     ]
    }
   ],
   "source": [
    "# Let's print the third table and check its content\n",
    "first_launch_table = html_tables[2]\n",
    "print(first_launch_table)"
   ]
  },
  {
   "cell_type": "markdown",
   "metadata": {},
   "source": [
    "You should able to see the columns names embedded in the table header elements `<th>` as follows:\n"
   ]
  },
  {
   "cell_type": "markdown",
   "metadata": {},
   "source": [
    "```\n",
    "<tr>\n",
    "<th scope=\"col\">Flight No.\n",
    "</th>\n",
    "<th scope=\"col\">Date and<br/>time (<a href=\"/wiki/Coordinated_Universal_Time\" title=\"Coordinated Universal Time\">UTC</a>)\n",
    "</th>\n",
    "<th scope=\"col\"><a href=\"/wiki/List_of_Falcon_9_first-stage_boosters\" title=\"List of Falcon 9 first-stage boosters\">Version,<br/>Booster</a> <sup class=\"reference\" id=\"cite_ref-booster_11-0\"><a href=\"#cite_note-booster-11\">[b]</a></sup>\n",
    "</th>\n",
    "<th scope=\"col\">Launch site\n",
    "</th>\n",
    "<th scope=\"col\">Payload<sup class=\"reference\" id=\"cite_ref-Dragon_12-0\"><a href=\"#cite_note-Dragon-12\">[c]</a></sup>\n",
    "</th>\n",
    "<th scope=\"col\">Payload mass\n",
    "</th>\n",
    "<th scope=\"col\">Orbit\n",
    "</th>\n",
    "<th scope=\"col\">Customer\n",
    "</th>\n",
    "<th scope=\"col\">Launch<br/>outcome\n",
    "</th>\n",
    "<th scope=\"col\"><a href=\"/wiki/Falcon_9_first-stage_landing_tests\" title=\"Falcon 9 first-stage landing tests\">Booster<br/>landing</a>\n",
    "</th></tr>\n",
    "```\n"
   ]
  },
  {
   "cell_type": "markdown",
   "metadata": {},
   "source": [
    "Next, we just need to iterate through the `<th>` elements and apply the provided `extract_column_from_header()` to extract column name one by one\n"
   ]
  },
  {
   "cell_type": "code",
   "execution_count": 12,
   "metadata": {
    "tags": []
   },
   "outputs": [],
   "source": [
    "column_names = []\n",
    "\n",
    "# Apply find_all() function with `th` element on first_launch_table\n",
    "# Iterate each th element and apply the provided extract_column_from_header() to get a column name\n",
    "# Append the Non-empty column name (`if name is not None and len(name) > 0`) into a list called column_names\n",
    "for th_element in first_launch_table.find_all('th'):\n",
    "    name = extract_column_from_header(th_element)\n",
    "    if name is not None and len(name) > 0:\n",
    "        column_names.append(name)"
   ]
  },
  {
   "cell_type": "markdown",
   "metadata": {},
   "source": [
    "Check the extracted column names\n"
   ]
  },
  {
   "cell_type": "code",
   "execution_count": 13,
   "metadata": {
    "tags": []
   },
   "outputs": [
    {
     "name": "stdout",
     "output_type": "stream",
     "text": [
      "['Flight No.', 'Date and time ( )', 'Launch site', 'Payload', 'Payload mass', 'Orbit', 'Customer', 'Launch outcome']\n"
     ]
    }
   ],
   "source": [
    "print(column_names)"
   ]
  },
  {
   "cell_type": "markdown",
   "metadata": {},
   "source": [
    "## TASK 3: Create a data frame by parsing the launch HTML tables\n"
   ]
  },
  {
   "cell_type": "markdown",
   "metadata": {},
   "source": [
    "We will create an empty dictionary with keys from the extracted column names in the previous task. Later, this dictionary will be converted into a Pandas dataframe\n"
   ]
  },
  {
   "cell_type": "code",
   "execution_count": 14,
   "metadata": {
    "tags": []
   },
   "outputs": [],
   "source": [
    "launch_dict= dict.fromkeys(column_names)\n",
    "\n",
    "# Remove an irrelvant column\n",
    "del launch_dict['Date and time ( )']\n",
    "\n",
    "# Let's initial the launch_dict with each value to be an empty list\n",
    "launch_dict['Flight No.'] = []\n",
    "launch_dict['Launch site'] = []\n",
    "launch_dict['Payload'] = []\n",
    "launch_dict['Payload mass'] = []\n",
    "launch_dict['Orbit'] = []\n",
    "launch_dict['Customer'] = []\n",
    "launch_dict['Launch outcome'] = []\n",
    "# Added some new columns\n",
    "launch_dict['Version Booster']=[]\n",
    "launch_dict['Booster landing']=[]\n",
    "launch_dict['Date']=[]\n",
    "launch_dict['Time']=[]"
   ]
  },
  {
   "cell_type": "markdown",
   "metadata": {},
   "source": [
    "Next, we just need to fill up the `launch_dict` with launch records extracted from table rows.\n"
   ]
  },
  {
   "cell_type": "markdown",
   "metadata": {},
   "source": [
    "Usually, HTML tables in Wiki pages are likely to contain unexpected annotations and other types of noises, such as reference links `B0004.1[8]`, missing values `N/A [e]`, inconsistent formatting, etc.\n"
   ]
  },
  {
   "cell_type": "markdown",
   "metadata": {},
   "source": [
    "To simplify the parsing process, we have provided an incomplete code snippet below to help you to fill up the `launch_dict`. Please complete the following code snippet with TODOs or you can choose to write your own logic to parse all launch tables:\n"
   ]
  },
  {
   "cell_type": "code",
   "execution_count": 41,
   "metadata": {
    "tags": []
   },
   "outputs": [
    {
     "name": "stdout",
     "output_type": "stream",
     "text": [
      "{'Flight No.': '1', 'Date': '4 June 2010', 'Time': '18:45', 'Version Booster': 'F9 v1.0[7]B0003.1[8]', 'Launch Site': 'CCAFS,SLC-40', 'Payload': 'Dragon Spacecraft Qualification Unit', 'Payload mass': '', 'Orbit': 'LEO', 'Customer': 'SpaceX', 'Launch outcome': 'Success', 'Booster landing': 'Failure[9][10](parachute)'}\n",
      "{'Flight No.': '2', 'Date': '8 December 2010', 'Time': '15:43[13]', 'Version Booster': 'F9 v1.0[7]B0004.1[8]', 'Launch Site': 'CCAFS,SLC-40', 'Payload': 'Dragon demo flight C1(Dragon C101)', 'Payload mass': '', 'Orbit': 'LEO (ISS)', 'Customer': 'NASA (COTS)\\nNRO', 'Launch outcome': 'Success[9]', 'Booster landing': 'Failure[9][14](parachute)'}\n",
      "{'Flight No.': '3', 'Date': '22 May 2012', 'Time': '07:44[17]', 'Version Booster': 'F9 v1.0[7]B0005.1[8]', 'Launch Site': 'CCAFS,SLC-40', 'Payload': 'Dragon demo flight C2+[18](Dragon C102)', 'Payload mass': '525\\xa0kg (1,157\\xa0lb)[19]', 'Orbit': 'LEO (ISS)', 'Customer': 'NASA (COTS)', 'Launch outcome': 'Success[20]', 'Booster landing': 'No attempt'}\n",
      "{'Flight No.': '4', 'Date': '8 October 2012', 'Time': '00:35[21]', 'Version Booster': 'F9 v1.0[7]B0006.1[8]', 'Launch Site': 'CCAFS,SLC-40', 'Payload': 'SpaceX CRS-1[22](Dragon C103)', 'Payload mass': '4,700\\xa0kg (10,400\\xa0lb)', 'Orbit': 'LEO (ISS)', 'Customer': 'NASA (CRS)', 'Launch outcome': 'Success', 'Booster landing': 'No attempt'}\n",
      "{'Flight No.': '5', 'Date': '1 March 2013', 'Time': '15:10', 'Version Booster': 'F9 v1.0[7]B0007.1[8]', 'Launch Site': 'CCAFS,SLC-40', 'Payload': 'SpaceX CRS-2[22](Dragon C104)', 'Payload mass': '4,877\\xa0kg (10,752\\xa0lb)', 'Orbit': 'LEO (ISS)', 'Customer': 'NASA (CRS)', 'Launch outcome': 'Success', 'Booster landing': 'No attempt'}\n",
      "{'Flight No.': '6', 'Date': '29 September 2013', 'Time': '16:00[30]', 'Version Booster': 'F9 v1.1[7]B1003[8]', 'Launch Site': 'VAFB,SLC-4E', 'Payload': 'CASSIOPE[22][31]', 'Payload mass': '500\\xa0kg (1,100\\xa0lb)', 'Orbit': 'Polar orbit LEO', 'Customer': 'MDA', 'Launch outcome': 'Success[30]', 'Booster landing': 'Uncontrolled(ocean)[d]'}\n",
      "{'Flight No.': '7', 'Date': '3 December 2013', 'Time': '22:41[34]', 'Version Booster': 'F9 v1.1B1004', 'Launch Site': 'CCAFS,SLC-40', 'Payload': 'SES-8[22][35][36]', 'Payload mass': '3,170\\xa0kg (6,990\\xa0lb)', 'Orbit': 'GTO', 'Customer': 'SES', 'Launch outcome': 'Success[37]', 'Booster landing': 'No attempt[38]'}\n",
      "{'Flight No.': '8', 'Date': '6 January 2014', 'Time': '22:06[41]', 'Version Booster': 'F9 v1.1', 'Launch Site': 'CCAFS,SLC-40', 'Payload': 'Thaicom 6[22]', 'Payload mass': '3,325\\xa0kg (7,330\\xa0lb)', 'Orbit': 'GTO', 'Customer': 'Thaicom', 'Launch outcome': 'Success[42]', 'Booster landing': 'No attempt[43]'}\n",
      "{'Flight No.': '9', 'Date': '18 April 2014', 'Time': '19:25[21]', 'Version Booster': 'F9 v1.1', 'Launch Site': 'Cape Canaveral,LC-40', 'Payload': 'SpaceX CRS-3[22](Dragon C105)', 'Payload mass': '2,296\\xa0kg (5,062\\xa0lb)[45]', 'Orbit': 'LEO (ISS)', 'Customer': 'NASA (CRS)', 'Launch outcome': 'Success', 'Booster landing': 'Controlled(ocean) [d][46]'}\n",
      "{'Flight No.': '10', 'Date': '14 July 2014', 'Time': '15:15', 'Version Booster': 'F9 v1.1', 'Launch Site': 'Cape Canaveral,LC-40', 'Payload': 'Orbcomm-OG2-1(6 satellites)[22]', 'Payload mass': '1,316\\xa0kg (2,901\\xa0lb)', 'Orbit': 'LEO', 'Customer': 'Orbcomm', 'Launch outcome': 'Success[51]', 'Booster landing': 'Controlled(ocean)[d][46]'}\n",
      "{'Flight No.': '11', 'Date': '5 August 2014', 'Time': '08:00', 'Version Booster': 'F9 v1.1', 'Launch Site': 'Cape Canaveral,LC-40', 'Payload': 'AsiaSat 8[22][54][55]', 'Payload mass': '4,535\\xa0kg (9,998\\xa0lb)', 'Orbit': 'GTO', 'Customer': 'AsiaSat', 'Launch outcome': 'Success[56]', 'Booster landing': 'No attempt[57]'}\n",
      "{'Flight No.': '12', 'Date': '7 September 2014', 'Time': '05:00', 'Version Booster': 'F9 v1.1B1011[8]', 'Launch Site': 'Cape Canaveral,LC-40', 'Payload': 'AsiaSat 6[22][54][58]', 'Payload mass': '4,428\\xa0kg (9,762\\xa0lb)', 'Orbit': 'GTO', 'Customer': 'AsiaSat', 'Launch outcome': 'Success[59]', 'Booster landing': 'No attempt'}\n",
      "{'Flight No.': '13', 'Date': '21 September 2014', 'Time': '05:52[21]', 'Version Booster': 'F9 v1.1B1010[8]', 'Launch Site': 'Cape Canaveral,LC-40', 'Payload': 'SpaceX CRS-4[22](Dragon C106.1)', 'Payload mass': '2,216\\xa0kg (4,885\\xa0lb)[62]', 'Orbit': 'LEO (ISS)', 'Customer': 'NASA (CRS)', 'Launch outcome': 'Success[63]', 'Booster landing': 'Uncontrolled(ocean)[d][64]'}\n",
      "{'Flight No.': '14', 'Date': '10 January 2015', 'Time': '09:47[67]', 'Version Booster': 'F9 v1.1B1012[8]', 'Launch Site': 'Cape Canaveral,LC-40', 'Payload': 'SpaceX CRS-5[68](Dragon C107)', 'Payload mass': '2,395\\xa0kg (5,280\\xa0lb)[69]', 'Orbit': 'LEO (ISS)', 'Customer': 'NASA (CRS)', 'Launch outcome': 'Success[70]', 'Booster landing': 'Failure (drone ship)'}\n",
      "{'Flight No.': '15', 'Date': '11 February 2015', 'Time': '23:03[72]', 'Version Booster': 'F9 v1.1B1013[8]', 'Launch Site': 'Cape Canaveral,LC-40', 'Payload': 'DSCOVR[68][73]', 'Payload mass': '570\\xa0kg (1,260\\xa0lb)', 'Orbit': 'HEO(Sun–Earth L1 insertion)', 'Customer': 'USAF\\nNASA\\nNOAA', 'Launch outcome': 'Success', 'Booster landing': 'Controlled(ocean)[d]'}\n",
      "{'Flight No.': '16', 'Date': '2 March 2015', 'Time': '03:50[21][76]', 'Version Booster': 'F9 v1.1B1014[8]', 'Launch Site': 'Cape Canaveral,LC-40', 'Payload': 'ABS-3A\\nEutelsat 115 West B[68]', 'Payload mass': '4,159\\xa0kg (9,169\\xa0lb)', 'Orbit': 'GTO', 'Customer': 'ABS\\nEutelsat', 'Launch outcome': 'Success', 'Booster landing': 'No attempt[77]'}\n",
      "{'Flight No.': '17', 'Date': '14 April 2015', 'Time': '20:10[21]', 'Version Booster': 'F9 v1.1B1015[8]', 'Launch Site': 'Cape Canaveral,LC-40', 'Payload': 'SpaceX CRS-6[68](Dragon C108.1)', 'Payload mass': '1,898\\xa0kg (4,184\\xa0lb)[82]', 'Orbit': 'LEO (ISS)', 'Customer': 'NASA (CRS)', 'Launch outcome': 'Success', 'Booster landing': 'Failure[83](drone ship)'}\n",
      "{'Flight No.': '18', 'Date': '27 April 2015', 'Time': '23:03[86]', 'Version Booster': 'F9 v1.1B1016[8]', 'Launch Site': 'Cape Canaveral,LC-40', 'Payload': 'TürkmenÄlem 52°E / MonacoSAT[68][87]', 'Payload mass': '4,707\\xa0kg (10,377\\xa0lb)', 'Orbit': 'GTO', 'Customer': 'Turkmenistan NationalSpace Agency[88]', 'Launch outcome': 'Success', 'Booster landing': 'No attempt[89]'}\n",
      "{'Flight No.': '19', 'Date': '28 June 2015', 'Time': '14:21[21][91]', 'Version Booster': 'F9 v1.1B1018[8]', 'Launch Site': 'Cape Canaveral,LC-40', 'Payload': 'SpaceX CRS-7[68](Dragon C109)', 'Payload mass': '1,952\\xa0kg (4,303\\xa0lb)[92]', 'Orbit': 'LEO (ISS)', 'Customer': 'NASA (CRS)', 'Launch outcome': 'Failure[93](in flight)', 'Booster landing': 'Precluded[94](drone ship)'}\n",
      "{'Flight No.': '20', 'Date': '22 December 2015', 'Time': '01:29[97]', 'Version Booster': 'F9 FTB1019.1[98]', 'Launch Site': 'Cape Canaveral,LC-40', 'Payload': 'Orbcomm-OG2-2(11 satellites)[22][97]', 'Payload mass': '2,034\\xa0kg (4,484\\xa0lb)', 'Orbit': 'LEO', 'Customer': 'Orbcomm', 'Launch outcome': 'Success', 'Booster landing': 'Success[99](ground pad)'}\n",
      "{'Flight No.': '21', 'Date': '17 January 2016', 'Time': '18:42[21]', 'Version Booster': 'F9 v1.1B1017[8]', 'Launch Site': 'VAFB,SLC-4E', 'Payload': 'Jason-3[68][104]', 'Payload mass': '553\\xa0kg (1,219\\xa0lb)', 'Orbit': 'LEO', 'Customer': 'NASA (LSP)\\nNOAA\\nCNES', 'Launch outcome': 'Success', 'Booster landing': 'Failure(drone ship)'}\n",
      "{'Flight No.': '22', 'Date': '4 March 2016', 'Time': '23:35[21]', 'Version Booster': 'F9 FTB1020.1[108]', 'Launch Site': 'Cape Canaveral,LC-40', 'Payload': 'SES-9[68][109][110]', 'Payload mass': '5,271\\xa0kg (11,621\\xa0lb)', 'Orbit': 'GTO', 'Customer': 'SES', 'Launch outcome': 'Success', 'Booster landing': 'Failure(drone ship)'}\n",
      "{'Flight No.': '23', 'Date': '8 April 2016', 'Time': '20:43[21]', 'Version Booster': 'F9 FTB1021.1[115]', 'Launch Site': 'Cape Canaveral,LC-40', 'Payload': 'SpaceX CRS-8[68][110](Dragon C110.1)', 'Payload mass': '3,136\\xa0kg (6,914\\xa0lb)[116]', 'Orbit': 'LEO (ISS)', 'Customer': 'NASA (CRS)', 'Launch outcome': 'Success[117]', 'Booster landing': 'Success[118](drone ship)'}\n",
      "{'Flight No.': '24', 'Date': '6 May 2016', 'Time': '05:21[21]', 'Version Booster': 'F9 FTB1022.1[122]', 'Launch Site': 'Cape Canaveral,LC-40', 'Payload': 'JCSAT-14[123]', 'Payload mass': '4,696\\xa0kg (10,353\\xa0lb)[124]', 'Orbit': 'GTO', 'Customer': 'SKY Perfect JSAT Group', 'Launch outcome': 'Success', 'Booster landing': 'Success(drone ship)'}\n",
      "{'Flight No.': '25', 'Date': '27 May 2016', 'Time': '21:39[128]', 'Version Booster': 'F9 FTB1023.1[129]', 'Launch Site': 'Cape Canaveral,LC-40', 'Payload': 'Thaicom 8[130][131]', 'Payload mass': '3,100\\xa0kg (6,800\\xa0lb)[132]', 'Orbit': 'GTO', 'Customer': 'Thaicom', 'Launch outcome': 'Success', 'Booster landing': 'Success[133](drone ship)'}\n",
      "{'Flight No.': '26', 'Date': '15 June 2016', 'Time': '14:29[21]', 'Version Booster': 'F9 FTB1024.1[108]', 'Launch Site': 'Cape Canaveral,LC-40', 'Payload': 'ABS-2A\\nEutelsat 117 West B[68]', 'Payload mass': '3,600\\xa0kg (7,900\\xa0lb)', 'Orbit': 'GTO', 'Customer': 'ABS\\nEutelsat', 'Launch outcome': 'Success', 'Booster landing': 'Failure[64](drone ship)'}\n",
      "{'Flight No.': '27', 'Date': '18 July 2016', 'Time': '04:45[21]', 'Version Booster': 'F9 FTB1025.1[129]', 'Launch Site': 'Cape Canaveral,LC-40', 'Payload': 'SpaceX CRS-9[68][141](Dragon C111.1)', 'Payload mass': '2,257\\xa0kg (4,976\\xa0lb)[142]', 'Orbit': 'LEO (ISS)', 'Customer': 'NASA (CRS)', 'Launch outcome': 'Success', 'Booster landing': 'Success(ground pad)'}\n",
      "{'Flight No.': '28', 'Date': '14 August 2016', 'Time': '05:26', 'Version Booster': 'F9 FTB1026.1[108]', 'Launch Site': 'Cape Canaveral,LC-40', 'Payload': 'JCSAT-16', 'Payload mass': '4,600\\xa0kg (10,100\\xa0lb)', 'Orbit': 'GTO', 'Customer': 'SKY Perfect JSAT Group', 'Launch outcome': 'Success', 'Booster landing': 'Success(drone ship)'}\n",
      "{'Flight No.': '29', 'Date': '14 January 2017', 'Time': '17:54', 'Version Booster': 'F9 FTB1029.1[151]', 'Launch Site': 'VAFB,SLC-4E', 'Payload': 'Iridium NEXT-1(10 satellites)[152][153]', 'Payload mass': '9,600\\xa0kg (21,200\\xa0lb)', 'Orbit': 'Polar LEO', 'Customer': 'Iridium Communications', 'Launch outcome': 'Success', 'Booster landing': 'Success[154](drone ship)'}\n",
      "{'Flight No.': '30', 'Date': '19 February 2017', 'Time': '14:39', 'Version Booster': 'F9 FTB1031.1[8]', 'Launch Site': 'KSC,LC-39A', 'Payload': 'SpaceX CRS-10[141](Dragon C112.1)', 'Payload mass': '2,490\\xa0kg (5,490\\xa0lb)[160]', 'Orbit': 'LEO (ISS)', 'Customer': 'NASA (CRS)', 'Launch outcome': 'Success', 'Booster landing': 'Success(ground pad)'}\n",
      "{'Flight No.': '31', 'Date': '16 March 2017', 'Time': '06:00', 'Version Booster': 'F9 FTB1030.1[163]', 'Launch Site': 'KSC,LC-39A', 'Payload': 'EchoStar 23', 'Payload mass': '5,600\\xa0kg (12,300\\xa0lb)[164]', 'Orbit': 'GTO', 'Customer': 'EchoStar', 'Launch outcome': 'Success', 'Booster landing': 'No attempt[165]'}\n",
      "{'Flight No.': '32', 'Date': '30 March 2017', 'Time': '22:27', 'Version Booster': 'F9 FT ♺B1021.2[115]', 'Launch Site': 'KSC,LC-39A', 'Payload': 'SES-10[109][168]', 'Payload mass': '5,300\\xa0kg (11,700\\xa0lb)[169]', 'Orbit': 'GTO', 'Customer': 'SES', 'Launch outcome': 'Success[170]', 'Booster landing': 'Success(drone ship)'}\n",
      "{'Flight No.': '33', 'Date': '1 May 2017', 'Time': '11:15', 'Version Booster': 'F9 FTB1032.1[129]', 'Launch Site': 'KSC,LC-39A', 'Payload': 'NROL-76[174]', 'Payload mass': 'Classified', 'Orbit': 'LEO[175]', 'Customer': 'NRO', 'Launch outcome': 'Success', 'Booster landing': 'Success(ground pad)'}\n",
      "{'Flight No.': '34', 'Date': '15 May 2017', 'Time': '23:21', 'Version Booster': 'F9 FTB1034.1[179]', 'Launch Site': 'KSC,LC-39A', 'Payload': 'Inmarsat-5 F4[180]', 'Payload mass': '6,070\\xa0kg (13,380\\xa0lb)[181]', 'Orbit': 'GTO', 'Customer': 'Inmarsat', 'Launch outcome': 'Success', 'Booster landing': 'No attempt[165]'}\n",
      "{'Flight No.': '35', 'Date': '3 June 2017', 'Time': '21:07', 'Version Booster': 'F9 FTB1035.1[185]', 'Launch Site': 'KSC,LC-39A', 'Payload': 'SpaceX CRS-11[141](Dragon C106.2 ♺)', 'Payload mass': '2,708\\xa0kg (5,970\\xa0lb)[186]', 'Orbit': 'LEO (ISS)', 'Customer': 'NASA (CRS)', 'Launch outcome': 'Success', 'Booster landing': 'Success(ground pad)'}\n",
      "{'Flight No.': '36', 'Date': '23 June 2017', 'Time': '19:10', 'Version Booster': 'F9 FT ♺ B1029.2[195]', 'Launch Site': 'KSC,LC-39A', 'Payload': 'BulgariaSat-1[196]', 'Payload mass': '3,669\\xa0kg (8,089\\xa0lb)[197]', 'Orbit': 'GTO', 'Customer': 'Bulsatcom', 'Launch outcome': 'Success', 'Booster landing': 'Success(drone ship)'}\n",
      "{'Flight No.': '37', 'Date': '25 June 2017', 'Time': '20:25', 'Version Booster': 'F9 FTB1036.1[198]', 'Launch Site': 'VAFB,SLC-4E', 'Payload': 'Iridium NEXT-2(10 satellites)', 'Payload mass': '9,600\\xa0kg (21,200\\xa0lb)', 'Orbit': 'LEO', 'Customer': 'Iridium Communications', 'Launch outcome': 'Success', 'Booster landing': 'Success(drone ship)'}\n",
      "{'Flight No.': '38', 'Date': '5 July 2017', 'Time': '23:38', 'Version Booster': 'F9 FTB1037.1[200]', 'Launch Site': 'KSC,LC-39A', 'Payload': 'Intelsat 35e[201]', 'Payload mass': '6,761\\xa0kg (14,905\\xa0lb)[202]', 'Orbit': 'GTO', 'Customer': 'Intelsat', 'Launch outcome': 'Success', 'Booster landing': 'No attempt[165]'}\n",
      "{'Flight No.': '39', 'Date': '14 August 2017', 'Time': '16:31', 'Version Booster': 'F9 B4B1039.1[207]', 'Launch Site': 'KSC,LC-39A', 'Payload': 'SpaceX CRS-12[141](Dragon C113.1)', 'Payload mass': '3,310\\xa0kg (7,300\\xa0lb)', 'Orbit': 'LEO (ISS)', 'Customer': 'NASA (CRS)', 'Launch outcome': 'Success', 'Booster landing': 'Success(ground pad)'}\n",
      "{'Flight No.': '40', 'Date': '24 August 2017', 'Time': '18:51', 'Version Booster': 'F9 FTB1038.1[209]', 'Launch Site': 'VAFB,SLC-4E', 'Payload': 'Formosat-5[210][211]', 'Payload mass': '475\\xa0kg (1,047\\xa0lb)[212]', 'Orbit': 'SSO', 'Customer': 'NSPO', 'Launch outcome': 'Success', 'Booster landing': 'Success(drone ship)'}\n",
      "{'Flight No.': '41', 'Date': '7 September 2017', 'Time': '14:00[215]', 'Version Booster': 'F9 B4B1040.1[108]', 'Launch Site': 'KSC,LC-39A', 'Payload': 'Boeing X-37B OTV-5', 'Payload mass': '4,990\\xa0kg (11,000\\xa0lb)[216]+ OTV payload', 'Orbit': 'LEO', 'Customer': 'USAF', 'Launch outcome': 'Success', 'Booster landing': 'Success(ground pad)'}\n",
      "{'Flight No.': '42', 'Date': '9 October 2017', 'Time': '12:37', 'Version Booster': 'F9 B4B1041.1[219]', 'Launch Site': 'VAFB,SLC-4E', 'Payload': 'Iridium NEXT-3(10 satellites)[152]', 'Payload mass': '9,600\\xa0kg (21,200\\xa0lb)', 'Orbit': 'Polar LEO', 'Customer': 'Iridium Communications', 'Launch outcome': 'Success', 'Booster landing': 'Success(drone ship)'}\n",
      "{'Flight No.': '43', 'Date': '11 October 2017', 'Time': '22:53:00', 'Version Booster': 'F9 FT ♺ B1031.2[220]', 'Launch Site': 'KSC,LC-39A', 'Payload': 'SES-11 / EchoStar 105', 'Payload mass': '5,200\\xa0kg (11,500\\xa0lb)', 'Orbit': 'GTO', 'Customer': 'SES S.A.\\nEchoStar', 'Launch outcome': 'Success', 'Booster landing': 'Success(drone ship)'}\n",
      "{'Flight No.': '44', 'Date': '30 October 2017', 'Time': '19:34', 'Version Booster': 'F9 B4B1042.1[219]', 'Launch Site': 'KSC,LC-39A', 'Payload': 'Koreasat 5A[222]', 'Payload mass': '3,500\\xa0kg (7,700\\xa0lb)', 'Orbit': 'GTO', 'Customer': 'KT Corporation', 'Launch outcome': 'Success', 'Booster landing': 'Success(drone ship)'}\n",
      "{'Flight No.': '45', 'Date': '15 December 2017', 'Time': '15:36[226]', 'Version Booster': 'F9 FT ♺ B1035.2[227]', 'Launch Site': 'Cape Canaveral,SLC-40', 'Payload': 'SpaceX CRS-13[141](Dragon C108.2 ♺)', 'Payload mass': '2,205\\xa0kg (4,861\\xa0lb)', 'Orbit': 'LEO (ISS)', 'Customer': 'NASA (CRS)', 'Launch outcome': 'Success', 'Booster landing': 'Success(ground pad)'}\n",
      "{'Flight No.': '46', 'Date': '23 December 2017', 'Time': '01:27[229]', 'Version Booster': 'F9 FT ♺ B1036.2[227]', 'Launch Site': 'VAFB,SLC-4E', 'Payload': 'Iridium NEXT-4(10 satellites)[152]', 'Payload mass': '9,600\\xa0kg (21,200\\xa0lb)', 'Orbit': 'Polar LEO', 'Customer': 'Iridium Communications', 'Launch outcome': 'Success[230]', 'Booster landing': 'Controlled(ocean)[d][230]'}\n",
      "{'Flight No.': '47', 'Date': '8 January 2018', 'Time': '01:00[237]', 'Version Booster': 'F9 B4B1043.1[238]', 'Launch Site': 'CCAFS,SLC-40', 'Payload': 'Zuma[238][239][240]', 'Payload mass': 'Classified', 'Orbit': 'LEO', 'Customer': 'Northrop Grumman [f][238]', 'Launch outcome': 'Success[241]', 'Booster landing': 'Success(ground pad)'}\n",
      "{'Flight No.': '48', 'Date': '31 January 2018', 'Time': '21:25[244]', 'Version Booster': 'F9 FT ♺ B1032.2[245]', 'Launch Site': 'CCAFS,SLC-40', 'Payload': 'GovSat-1 (SES-16)[246]', 'Payload mass': '4,230\\xa0kg (9,330\\xa0lb)[247]', 'Orbit': 'GTO', 'Customer': 'SES', 'Launch outcome': 'Success[248]', 'Booster landing': 'Controlled(ocean)[d][248]'}\n",
      "{'Flight No.': '49', 'Date': '22 February 2018', 'Time': '14:17[267]', 'Version Booster': 'F9 FT ♺B1038.2[268]', 'Launch Site': 'VAFB,SLC-4E', 'Payload': 'Paz[269]\\nTintin A and Tintin B[270]', 'Payload mass': '2,150\\xa0kg (4,740\\xa0lb)', 'Orbit': 'SSO', 'Customer': 'Hisdesat\\nexactEarth\\nSpaceX', 'Launch outcome': 'Success[271]', 'Booster landing': 'No attempt[271]'}\n",
      "{'Flight No.': '50', 'Date': '6 March 2018', 'Time': '05:33[276]', 'Version Booster': 'F9 B4B1044.1[108]', 'Launch Site': 'CCAFS,SLC-40', 'Payload': 'Hispasat 30W-6[277]\\nPODSat[278]', 'Payload mass': '6,092\\xa0kg (13,431\\xa0lb)[279]', 'Orbit': 'GTO', 'Customer': 'Hispasat[277]\\nNovaWurks', 'Launch outcome': 'Success[280]', 'Booster landing': 'No attempt[281]'}\n",
      "{'Flight No.': '51', 'Date': '30 March 2018', 'Time': '14:14[285]', 'Version Booster': 'F9 B4 ♺B1041.2[268]', 'Launch Site': 'VAFB,SLC-4E', 'Payload': 'Iridium NEXT-5(10 satellites)[152]', 'Payload mass': '9,600\\xa0kg (21,200\\xa0lb)', 'Orbit': 'Polar LEO', 'Customer': 'Iridium Communications', 'Launch outcome': 'Success[286]', 'Booster landing': 'No attempt[287]'}\n",
      "{'Flight No.': '52', 'Date': '2 April 2018', 'Time': '20:30[291]', 'Version Booster': 'F9 B4 ♺B1039.2[292]', 'Launch Site': 'CCAFS,SLC-40', 'Payload': 'SpaceX CRS-14[141](Dragon C110.2 ♺)', 'Payload mass': '2,647\\xa0kg (5,836\\xa0lb)[292]', 'Orbit': 'LEO (ISS)', 'Customer': 'NASA (CRS)', 'Launch outcome': 'Success[293]', 'Booster landing': 'No attempt[294]'}\n",
      "{'Flight No.': '53', 'Date': '18 April 2018', 'Time': '22:51[303]', 'Version Booster': 'F9 B4B1045.1[268]', 'Launch Site': 'CCAFS,SLC-40', 'Payload': 'Transiting Exoplanet Survey Satellite (TESS)[304]', 'Payload mass': '362\\xa0kg (798\\xa0lb)[305]', 'Orbit': 'HEO for P/2 orbit', 'Customer': 'NASA (LSP)', 'Launch outcome': 'Success[306]', 'Booster landing': 'Success[306](drone ship)'}\n",
      "{'Flight No.': '54', 'Date': '11 May 2018', 'Time': '20:14[310]', 'Version Booster': 'F9 B5[311]B1046.1[268]', 'Launch Site': 'KSC,LC-39A', 'Payload': 'Bangabandhu-1[312][313]', 'Payload mass': '3,600\\xa0kg (7,900\\xa0lb)[314]', 'Orbit': 'GTO', 'Customer': 'Thales-Alenia / BTRC', 'Launch outcome': 'Success[315]', 'Booster landing': 'Success[315](drone ship)'}\n",
      "{'Flight No.': '55', 'Date': '22 May 2018', 'Time': '19:47[321]', 'Version Booster': 'F9 B4 ♺B1043.2[322]', 'Launch Site': 'VAFB,SLC-4E', 'Payload': 'Iridium NEXT-6(5 satellites)[152][155]\\nGRACE-FO × 2[323][324]', 'Payload mass': '6,460\\xa0kg (14,240\\xa0lb)[g]', 'Orbit': 'Polar LEO', 'Customer': 'Iridium Communications\\nGFZ\\xa0• NASA', 'Launch outcome': 'Success[327]', 'Booster landing': 'No attempt[165]'}\n",
      "{'Flight No.': '56', 'Date': '4 June 2018', 'Time': '04:45[330]', 'Version Booster': 'F9 B4 ♺B1040.2[268]', 'Launch Site': 'CCAFS,SLC-40', 'Payload': 'SES-12[331]', 'Payload mass': '5,384\\xa0kg (11,870\\xa0lb)[332]', 'Orbit': 'GTO', 'Customer': 'SES', 'Launch outcome': 'Success[333]', 'Booster landing': 'No attempt[165]'}\n",
      "{'Flight No.': '57', 'Date': '29 June 2018', 'Time': '09:42[335]', 'Version Booster': 'F9 B4 ♺B1045.2[336]', 'Launch Site': 'CCAFS,SLC-40', 'Payload': 'SpaceX CRS-15(Dragon C111.2 ♺)', 'Payload mass': '2,697\\xa0kg (5,946\\xa0lb)[337]', 'Orbit': 'LEO (ISS)', 'Customer': 'NASA (CRS)', 'Launch outcome': 'Success[338]', 'Booster landing': 'No attempt[165]'}\n",
      "{'Flight No.': '58', 'Date': '22 July 2018', 'Time': '05:50[340]', 'Version Booster': 'F9 B5B1047.1', 'Launch Site': 'CCAFS,SLC-40', 'Payload': 'Telstar 19V[341]', 'Payload mass': '7,075\\xa0kg (15,598\\xa0lb)[342]', 'Orbit': 'GTO[343]', 'Customer': 'Telesat', 'Launch outcome': 'Success[344]', 'Booster landing': 'Success[344](drone ship)'}\n",
      "{'Flight No.': '59', 'Date': '25 July 2018', 'Time': '11:39[348]', 'Version Booster': 'F9 B5[349]B1048.1[350]', 'Launch Site': 'VAFB,SLC-4E', 'Payload': 'Iridium NEXT-7(10 satellites)[152]', 'Payload mass': '9,600\\xa0kg (21,200\\xa0lb)', 'Orbit': 'Polar LEO', 'Customer': 'Iridium Communications', 'Launch outcome': 'Success[351]', 'Booster landing': 'Success[352](drone ship)'}\n",
      "{'Flight No.': '60', 'Date': '7 August 2018', 'Time': '05:18[353]', 'Version Booster': 'F9 B5 ♺ B1046.2[354]', 'Launch Site': 'CCAFS,SLC-40', 'Payload': 'Merah Putih (formerly Telkom 4)[355][356]', 'Payload mass': '5,800\\xa0kg (12,800\\xa0lb)[357]', 'Orbit': 'GTO', 'Customer': 'Telkom Indonesia', 'Launch outcome': 'Success[358]', 'Booster landing': 'Success[358](drone ship)'}\n",
      "{'Flight No.': '61', 'Date': '10 September 2018', 'Time': '04:45[361]', 'Version Booster': 'F9 B5B1049.1[268]', 'Launch Site': 'CCAFS,SLC-40', 'Payload': 'Telstar 18V / Apstar-5C[341]', 'Payload mass': '7,060\\xa0kg (15,560\\xa0lb)[361]', 'Orbit': 'GTO[361]', 'Customer': 'Telesat', 'Launch outcome': 'Success[361]', 'Booster landing': 'Success[361](drone ship)'}\n",
      "{'Flight No.': '62', 'Date': '8 October 2018', 'Time': '02:22[363]', 'Version Booster': 'F9 B5 ♺B1048.2[364]', 'Launch Site': 'VAFB,SLC-4E', 'Payload': 'SAOCOM 1A[365][366]', 'Payload mass': '3,000\\xa0kg (6,600\\xa0lb)[363]', 'Orbit': 'SSO', 'Customer': 'CONAE', 'Launch outcome': 'Success[363]', 'Booster landing': 'Success[363](ground pad)'}\n",
      "{'Flight No.': '63', 'Date': '15 November 2018', 'Time': '20:46[367]', 'Version Booster': 'F9 B5 ♺B1047.2[268]', 'Launch Site': 'KSC,LC-39A', 'Payload': \"Es'hail 2[368]\", 'Payload mass': '5,300\\xa0kg (11,700\\xa0lb)[369]', 'Orbit': 'GTO', 'Customer': \"Es'hailSat\", 'Launch outcome': 'Success[370]', 'Booster landing': 'Success[370](drone ship)'}\n",
      "{'Flight No.': '64', 'Date': '3 December 2018', 'Time': '18:34:05', 'Version Booster': 'F9 B5 ♺ B1046.3[268]SHERPA', 'Launch Site': 'VAFB,SLC-4E', 'Payload': 'SSO-A (SmallSat Express)', 'Payload mass': '~4,000\\xa0kg (8,800\\xa0lb)[372]', 'Orbit': 'SSO', 'Customer': 'Spaceflight Industries', 'Launch outcome': 'Success[373]', 'Booster landing': 'Success[373](drone ship)'}\n",
      "{'Flight No.': '65', 'Date': '5 December 2018', 'Time': '18:16', 'Version Booster': 'F9 B5B1050[268]', 'Launch Site': 'CCAFS,SLC-40', 'Payload': 'SpaceX CRS-16(Dragon C112.2♺ )', 'Payload mass': '2,500\\xa0kg (5,500\\xa0lb)[382]', 'Orbit': 'LEO (ISS)', 'Customer': 'NASA (CRS)', 'Launch outcome': 'Success', 'Booster landing': 'Failure[383](ground pad)'}\n",
      "{'Flight No.': '66', 'Date': '23 December 2018', 'Time': '13:51[386]', 'Version Booster': 'F9 B5B1054[387]', 'Launch Site': 'CCAFS,SLC-40', 'Payload': 'GPS III-01 (Vespucci)', 'Payload mass': '4,400\\xa0kg (9,700\\xa0lb)[388]', 'Orbit': 'MEO', 'Customer': 'USAF', 'Launch outcome': 'Success[386]', 'Booster landing': 'No attempt[386]'}\n",
      "{'Flight No.': '67', 'Date': '11 January 2019', 'Time': '15:31[396]', 'Version Booster': 'F9 B5 ♺B1049.2[397]', 'Launch Site': 'VAFB,SLC-4E', 'Payload': 'Iridium NEXT-8(10 satellites)[152]', 'Payload mass': '9,600\\xa0kg (21,200\\xa0lb)', 'Orbit': 'Polar LEO', 'Customer': 'Iridium Communications', 'Launch outcome': 'Success', 'Booster landing': 'Success(drone ship)'}\n",
      "{'Flight No.': '68', 'Date': '22 February 2019', 'Time': '01:45[398]', 'Version Booster': 'F9 B5 ♺B1048.3[399]', 'Launch Site': 'CCAFS,SLC-40', 'Payload': 'Nusantara Satu (PSN-6)[400]\\nBeresheet Moon lander[401]\\nS5[402]', 'Payload mass': '4,850\\xa0kg (10,690\\xa0lb)[403]', 'Orbit': 'GTO', 'Customer': 'PSN\\nSpaceIL / IAI\\nAir Force Research', 'Launch outcome': 'Success', 'Booster landing': 'Success(drone ship)'}\n",
      "{'Flight No.': '69', 'Date': '2 March 2019', 'Time': '07:49[412]', 'Version Booster': 'F9 B5B1051.1[268][413]', 'Launch Site': 'KSC,LC-39A', 'Payload': 'Crew Dragon Demo-1[414](Dragon C201)', 'Payload mass': '12,055\\xa0kg (26,577\\xa0lb)[415][h]', 'Orbit': 'LEO (ISS)', 'Customer': 'NASA (CCD)', 'Launch outcome': 'Success', 'Booster landing': 'Success(drone ship)'}\n",
      "{'Flight No.': '70', 'Date': '4 May 2019', 'Time': '06:48', 'Version Booster': 'F9 B5B1056.1[420]', 'Launch Site': 'CCAFS,SLC-40', 'Payload': 'SpaceX CRS-17[141](Dragon C113.2 ♺)', 'Payload mass': '2,495\\xa0kg (5,501\\xa0lb)[432]', 'Orbit': 'LEO (ISS)', 'Customer': 'NASA (CRS)', 'Launch outcome': 'Success', 'Booster landing': 'Success(drone ship)'}\n",
      "{'Flight No.': '71', 'Date': '24 May 2019', 'Time': '02:30', 'Version Booster': 'F9 B5 ♺B1049.3[434]', 'Launch Site': 'CCAFS,SLC-40', 'Payload': 'Starlink v0.9 (60 satellites)', 'Payload mass': '13,620\\xa0kg (30,030\\xa0lb)[5]', 'Orbit': 'LEO', 'Customer': 'SpaceX', 'Launch outcome': 'Success', 'Booster landing': 'Success(drone ship)'}\n",
      "{'Flight No.': '72', 'Date': '12 June 2019', 'Time': '14:17', 'Version Booster': 'F9 B5 ♺B1051.2[420]', 'Launch Site': 'VAFB,SLC-4E', 'Payload': 'RADARSAT Constellation(3 satellites)', 'Payload mass': '4,200\\xa0kg (9,300\\xa0lb)[443]', 'Orbit': 'SSO', 'Customer': 'Canadian Space Agency (CSA)', 'Launch outcome': 'Success', 'Booster landing': 'Success(ground pad)'}\n",
      "{'Flight No.': '73', 'Date': '25 July 2019', 'Time': '22:01[464]', 'Version Booster': 'F9 B5 ♺B1056.2[465]', 'Launch Site': 'CCAFSSLC-40', 'Payload': 'SpaceX CRS-18[141](Dragon C108.3 ♺)', 'Payload mass': '2,268\\xa0kg (5,000\\xa0lb)[464]', 'Orbit': 'LEO (ISS)', 'Customer': 'NASA (CRS)', 'Launch outcome': 'Success', 'Booster landing': 'Success(ground pad)'}\n",
      "{'Flight No.': '74', 'Date': '6 August 2019', 'Time': '23:23[471]', 'Version Booster': 'F9 B5 ♺B1047.3[472]', 'Launch Site': 'CCAFS,SLC-40', 'Payload': 'AMOS-17[473]', 'Payload mass': '6,500\\xa0kg (14,300\\xa0lb)[474]', 'Orbit': 'GTO', 'Customer': 'Spacecom', 'Launch outcome': 'Success', 'Booster landing': 'No attempt[474]'}\n",
      "{'Flight No.': '75', 'Date': '11 November 2019', 'Time': '14:56[479]', 'Version Booster': 'F9 B5 ♺B1048.4', 'Launch Site': 'CCAFS,SLC-40', 'Payload': 'Starlink 1 v1.0 (60 satellites)', 'Payload mass': '15,600\\xa0kg (34,400\\xa0lb)[5]', 'Orbit': 'LEO', 'Customer': 'SpaceX', 'Launch outcome': 'Success', 'Booster landing': 'Success(drone ship)'}\n",
      "{'Flight No.': '76', 'Date': '5 December 2019', 'Time': '17:29[481]', 'Version Booster': 'F9 B5B1059.1[482]', 'Launch Site': 'CCAFS,SLC-40', 'Payload': 'SpaceX CRS-19[483](Dragon C106.3 ♺)', 'Payload mass': '2,617\\xa0kg (5,769\\xa0lb)', 'Orbit': 'LEO (ISS)', 'Customer': 'NASA (CRS)', 'Launch outcome': 'Success', 'Booster landing': 'Success(drone ship)'}\n",
      "{'Flight No.': '77', 'Date': '17 December 2019', 'Time': '00:10[486]', 'Version Booster': 'F9 B5 ♺B1056.3[482]', 'Launch Site': 'CCAFS,SLC-40', 'Payload': 'JCSat-18 / Kacific 1[487]', 'Payload mass': '6,956\\xa0kg (15,335\\xa0lb)[486]', 'Orbit': 'GTO', 'Customer': 'Sky Perfect JSATKacific 1', 'Launch outcome': 'Success', 'Booster landing': 'Success(drone ship)'}\n",
      "{'Flight No.': '78', 'Date': '7 January 2020', 'Time': '02:19:21[492]', 'Version Booster': 'F9 B5 ♺ B1049.4', 'Launch Site': 'CCAFS,SLC-40', 'Payload': 'Starlink 2 v1.0 (60 satellites)', 'Payload mass': '15,600\\xa0kg (34,400\\xa0lb)[5]', 'Orbit': 'LEO', 'Customer': 'SpaceX', 'Launch outcome': 'Success', 'Booster landing': 'Success(drone ship)'}\n",
      "{'Flight No.': '79', 'Date': '19 January 2020', 'Time': '15:30[494]', 'Version Booster': 'F9 B5 ♺ B1046.4', 'Launch Site': 'KSC,LC-39A', 'Payload': 'Crew Dragon in-flight abort test[495](Dragon C205.1)', 'Payload mass': '12,050\\xa0kg (26,570\\xa0lb)', 'Orbit': 'Sub-orbital[496]', 'Customer': 'NASA (CTS)[497]', 'Launch outcome': 'Success', 'Booster landing': 'No attempt'}\n",
      "{'Flight No.': '80', 'Date': '29 January 2020', 'Time': '14:07[501]', 'Version Booster': 'F9 B5 ♺B1051.3', 'Launch Site': 'CCAFS,SLC-40', 'Payload': 'Starlink 3 v1.0 (60 satellites)', 'Payload mass': '15,600\\xa0kg (34,400\\xa0lb)[5]', 'Orbit': 'LEO', 'Customer': 'SpaceX', 'Launch outcome': 'Success', 'Booster landing': 'Success(drone ship)'}\n",
      "{'Flight No.': '81', 'Date': '17 February 2020', 'Time': '15:05[503]', 'Version Booster': 'F9 B5 ♺B1056.4', 'Launch Site': 'CCAFS,SLC-40', 'Payload': 'Starlink 4 v1.0 (60 satellites)', 'Payload mass': '15,600\\xa0kg (34,400\\xa0lb)[5]', 'Orbit': 'LEO', 'Customer': 'SpaceX', 'Launch outcome': 'Success', 'Booster landing': 'Failure(drone ship)'}\n",
      "{'Flight No.': '82', 'Date': '7 March 2020', 'Time': '04:50[506]', 'Version Booster': 'F9 B5 ♺B1059.2', 'Launch Site': 'CCAFS,SLC-40', 'Payload': 'SpaceX CRS-20(Dragon C112.3 ♺)', 'Payload mass': '1,977\\xa0kg (4,359\\xa0lb)[507]', 'Orbit': 'LEO (ISS)', 'Customer': 'NASA (CRS)', 'Launch outcome': 'Success', 'Booster landing': 'Success(ground pad)'}\n",
      "{'Flight No.': '83', 'Date': '18 March 2020', 'Time': '12:16[510]', 'Version Booster': 'F9 B5 ♺ B1048.5', 'Launch Site': 'KSC,LC-39A', 'Payload': 'Starlink 5 v1.0 (60 satellites)', 'Payload mass': '15,600\\xa0kg (34,400\\xa0lb)[5]', 'Orbit': 'LEO', 'Customer': 'SpaceX', 'Launch outcome': 'Success', 'Booster landing': 'Failure(drone ship)'}\n",
      "{'Flight No.': '84', 'Date': '22 April 2020', 'Time': '19:30[514]', 'Version Booster': 'F9 B5 ♺B1051.4', 'Launch Site': 'KSC,LC-39A', 'Payload': 'Starlink 6 v1.0 (60 satellites)', 'Payload mass': '15,600\\xa0kg (34,400\\xa0lb)[5]', 'Orbit': 'LEO', 'Customer': 'SpaceX', 'Launch outcome': 'Success', 'Booster landing': 'Success(drone ship)'}\n",
      "{'Flight No.': '85', 'Date': '30 May 2020', 'Time': '19:22[517]', 'Version Booster': 'F9 B5B1058.1[518]', 'Launch Site': 'KSC,LC-39A', 'Payload': 'Crew Dragon Demo-2[414](Crew Dragon C206.1 Endeavour)', 'Payload mass': '12,530\\xa0kg (27,620\\xa0lb)[519]', 'Orbit': 'LEO (ISS)', 'Customer': 'NASA (CCDev)', 'Launch outcome': 'Success', 'Booster landing': 'Success(drone ship)'}\n",
      "{'Flight No.': '86', 'Date': '4 June 2020', 'Time': '01:25[521]', 'Version Booster': 'F9 B5 ♺B1049.5', 'Launch Site': 'CCAFS,SLC-40', 'Payload': 'Starlink 7 v1.0 (60 satellites)', 'Payload mass': '15,600\\xa0kg (34,400\\xa0lb)[5]', 'Orbit': 'LEO', 'Customer': 'SpaceX', 'Launch outcome': 'Success', 'Booster landing': 'Success(drone ship)'}\n",
      "{'Flight No.': '87', 'Date': '13 June 2020', 'Time': '09:21[523]', 'Version Booster': 'F9 B5 ♺B1059.3', 'Launch Site': 'CCAFS,SLC-40', 'Payload': 'Starlink 8 v1.0 (58 satellites),[524][525]SkySats-16, -17, -18', 'Payload mass': '15,410\\xa0kg (33,970\\xa0lb)[523]', 'Orbit': 'LEO', 'Customer': 'SpaceXPlanet Labs', 'Launch outcome': 'Success', 'Booster landing': 'Success(drone ship)'}\n",
      "{'Flight No.': '88', 'Date': '30 June 2020', 'Time': '20:10:46[529]', 'Version Booster': 'F9 B5B1060.1', 'Launch Site': 'CCAFS,SLC-40', 'Payload': 'GPS III-03 (Matthew Henson)', 'Payload mass': '4,311\\xa0kg (9,504\\xa0lb)[530]', 'Orbit': 'MEO', 'Customer': 'U.S. Space Force[530]', 'Launch outcome': 'Success', 'Booster landing': 'Success(drone ship)'}\n",
      "{'Flight No.': '89', 'Date': '20 July 2020', 'Time': '21:30[543]', 'Version Booster': 'F9 B5 ♺ B1058.2[544]', 'Launch Site': 'CCAFS,SLC-40', 'Payload': 'ANASIS-II', 'Payload mass': '5,000–6,000\\xa0kg (11,000–13,000\\xa0lb)', 'Orbit': 'GTO', 'Customer': 'Republic of Korea Army', 'Launch outcome': 'Success', 'Booster landing': 'Success(drone ship)'}\n",
      "{'Flight No.': '90', 'Date': '7 August 2020', 'Time': '05:12[549]', 'Version Booster': 'F9 B5 ♺B1051.5', 'Launch Site': 'KSC,LC-39A', 'Payload': 'Starlink 9 v1.0 (57 Satellites),[524]SXRS-1 (BlackSky Global 7 and 8)', 'Payload mass': '14,932\\xa0kg (32,919\\xa0lb)', 'Orbit': 'LEO', 'Customer': 'SpaceXSpaceflight Industries (BlackSky)', 'Launch outcome': 'Success', 'Booster landing': 'Success(drone ship)'}\n",
      "{'Flight No.': '91', 'Version Booster': 'F9 B5 ♺B1049.6[544]', 'Launch Site': 'CCAFS,SLC-40', 'Payload': 'Starlink 10 v1.0 (58 satellites)SkySat-19, -20, -21', 'Payload mass': '~15,440\\xa0kg (34,040\\xa0lb)', 'Orbit': 'LEO', 'Customer': 'SpaceXPlanet Labs', 'Launch outcome': 'Success', 'Booster landing': 'Success(drone ship)'}\n",
      "{'Flight No.': '92', 'Version Booster': 'F9 B5 ♺B1059.4', 'Launch Site': 'CCAFS,SLC-40', 'Payload': 'SAOCOM 1B[556]GNOMES 1[556]Tyvak-0172[557]', 'Payload mass': '3,130\\xa0kg (6,900\\xa0lb)[558]', 'Orbit': 'SSO', 'Customer': 'CONAEPlanetIQTyvak', 'Launch outcome': 'Success', 'Booster landing': 'Success(ground pad)'}\n",
      "{'Flight No.': '93', 'Version Booster': 'F9 B5 ♺B1060.2[563]', 'Launch Site': 'KSC,LC-39A', 'Payload': 'Starlink 11 v1.0 (60 satellites)', 'Payload mass': '15,600\\xa0kg (34,400\\xa0lb)[5]', 'Orbit': 'LEO', 'Customer': 'SpaceX', 'Launch outcome': 'Success', 'Booster landing': 'Success(drone ship)'}\n",
      "{'Flight No.': '94', 'Version Booster': 'F9 B5 ♺B1058.3[565]', 'Launch Site': 'KSC,LC-39A', 'Payload': 'Starlink 12 v1.0 (60 satellites)', 'Payload mass': '15,600\\xa0kg (34,400\\xa0lb)[5]', 'Orbit': 'LEO', 'Customer': 'SpaceX', 'Launch outcome': 'Success', 'Booster landing': 'Success(drone ship)'}\n",
      "{'Flight No.': '95', 'Version Booster': 'F9 B5 ♺B1051.6[568]', 'Launch Site': 'KSC,LC-39A', 'Payload': 'Starlink 13 v1.0 (60 satellites)', 'Payload mass': '15,600\\xa0kg (34,400\\xa0lb)[5]', 'Orbit': 'LEO', 'Customer': 'SpaceX', 'Launch outcome': 'Success', 'Booster landing': 'Success(drone ship)'}\n",
      "{'Flight No.': '96', 'Version Booster': 'F9 B5 ♺B1060.3', 'Launch Site': 'CCAFS,SLC-40', 'Payload': 'Starlink 14 v1.0 (60 satellites)', 'Payload mass': '15,600\\xa0kg (34,400\\xa0lb)', 'Orbit': 'LEO', 'Customer': 'SpaceX', 'Launch outcome': 'Success', 'Booster landing': 'Success(drone ship)'}\n",
      "{'Flight No.': '97', 'Version Booster': 'F9 B5B1062.1', 'Launch Site': 'CCAFS,SLC-40', 'Payload': 'GPS III-04 (Sacagawea)[541][573]', 'Payload mass': '4,311\\xa0kg (9,504\\xa0lb)', 'Orbit': 'MEO', 'Customer': 'USSF', 'Launch outcome': 'Success', 'Booster landing': 'Success(drone ship)'}\n",
      "{'Flight No.': '98', 'Version Booster': 'F9 B5B1061.1[582]', 'Launch Site': 'KSC,LC-39A', 'Payload': 'Crew-1(Crew Dragon C207.1 Resilience)', 'Payload mass': '~12,500\\xa0kg (27,600\\xa0lb)', 'Orbit': 'LEO (ISS)', 'Customer': 'NASA (CCP)[497]', 'Launch outcome': 'Success', 'Booster landing': 'Success(drone ship)'}\n",
      "{'Flight No.': '99', 'Version Booster': 'F9 B5B1063.1', 'Launch Site': 'VAFB,SLC-4E', 'Payload': 'Sentinel-6 Michael Freilich (Jason-CS A)', 'Payload mass': '1,192\\xa0kg (2,628\\xa0lb)', 'Orbit': 'LEO', 'Customer': 'NASA / NOAA / ESA / EUMETSAT', 'Launch outcome': 'Success', 'Booster landing': 'Success(ground pad)'}\n",
      "{'Flight No.': '100', 'Version Booster': 'F9 B5 ♺B1049.7[590]', 'Launch Site': 'CCAFS,SLC-40', 'Payload': 'Starlink 15 v1.0 (60 satellites)', 'Payload mass': '15,600\\xa0kg (34,400\\xa0lb)', 'Orbit': 'LEO', 'Customer': 'SpaceX', 'Launch outcome': 'Success', 'Booster landing': 'Success(drone ship)'}\n",
      "{'Flight No.': '101', 'Version Booster': 'F9 B5 ♺B1058.4[592]', 'Launch Site': 'KSC,LC-39A', 'Payload': 'SpaceX CRS-21(Dragon C208.1)', 'Payload mass': '2,972\\xa0kg (6,552\\xa0lb)', 'Orbit': 'LEO (ISS)', 'Customer': 'NASA (CRS)', 'Launch outcome': 'Success', 'Booster landing': 'Success(drone ship)'}\n",
      "{'Flight No.': '102', 'Version Booster': 'F9 B5 ♺B1051.7', 'Launch Site': 'CCSFS,SLC-40[597]', 'Payload': 'SXM-7', 'Payload mass': '7,000\\xa0kg (15,000\\xa0lb)', 'Orbit': 'GTO', 'Customer': 'Sirius XM', 'Launch outcome': 'Success', 'Booster landing': 'Success(drone ship)'}\n",
      "{'Flight No.': '103', 'Version Booster': 'F9 B5 ♺B1059.5', 'Launch Site': 'KSC,LC-39A', 'Payload': 'NROL-108', 'Payload mass': 'Classified', 'Orbit': 'LEO', 'Customer': 'NRO', 'Launch outcome': 'Success', 'Booster landing': 'Success(ground pad)'}\n",
      "{'Flight No.': '104', 'Version Booster': 'F9 B5 ♺B1060.4', 'Launch Site': 'CCSFS,SLC-40', 'Payload': 'Türksat 5A[605]', 'Payload mass': '3,500\\xa0kg (7,700\\xa0lb)', 'Orbit': 'GTO', 'Customer': 'Türksat', 'Launch outcome': 'Success', 'Booster landing': 'Success(drone ship)'}\n",
      "{'Flight No.': '105', 'Version Booster': 'F9 B5 ♺B1051.8[609]', 'Launch Site': 'KSC,LC-39A', 'Payload': 'Starlink 16 v1.0 (60 satellites)', 'Payload mass': '15,600\\xa0kg (34,400\\xa0lb)', 'Orbit': 'LEO', 'Customer': 'SpaceX', 'Launch outcome': 'Success', 'Booster landing': 'Success(drone ship)'}\n",
      "{'Flight No.': '106', 'Version Booster': 'F9 B5 ♺B1058.5[613]', 'Launch Site': 'CCSFS,SLC-40', 'Payload': 'Transporter-1 (143 smallsat rideshare)', 'Payload mass': '~5,000\\xa0kg (11,000\\xa0lb)', 'Orbit': 'SSO', 'Customer': 'Various', 'Launch outcome': 'Success', 'Booster landing': 'Success(drone ship)'}\n",
      "{'Flight No.': '107', 'Version Booster': 'F9 B5 ♺B1060.5[624]', 'Launch Site': 'CCSFS,SLC-40', 'Payload': 'Starlink 18 v1.0 (60 satellites)', 'Payload mass': '15,600\\xa0kg (34,400\\xa0lb)', 'Orbit': 'LEO', 'Customer': 'SpaceX', 'Launch outcome': 'Success', 'Booster landing': 'Success(drone ship)'}\n",
      "{'Flight No.': '108', 'Version Booster': 'F9 B5 ♺B1059.6', 'Launch Site': 'CCSFS,SLC-40', 'Payload': 'Starlink 19 v1.0 (60 satellites)[627]', 'Payload mass': '15,600\\xa0kg (34,400\\xa0lb)', 'Orbit': 'LEO', 'Customer': 'SpaceX', 'Launch outcome': 'Success', 'Booster landing': 'Failure (drone ship)'}\n",
      "{'Flight No.': '109', 'Version Booster': 'F9 B5 ♺B1049.8[634]', 'Launch Site': 'KSC,LC-39A', 'Payload': 'Starlink 17 v1.0 (60 satellites)', 'Payload mass': '15,600\\xa0kg (34,400\\xa0lb)', 'Orbit': 'LEO', 'Customer': 'SpaceX', 'Launch outcome': 'Success', 'Booster landing': 'Success(drone ship)'}\n",
      "{'Flight No.': '110', 'Version Booster': 'F9 B5 ♺B1058.6[638]', 'Launch Site': 'CCSFS,SLC-40', 'Payload': 'Starlink 20 v1.0 (60 satellites)', 'Payload mass': '15,600\\xa0kg (34,400\\xa0lb)', 'Orbit': 'LEO', 'Customer': 'SpaceX', 'Launch outcome': 'Success', 'Booster landing': 'Success(drone ship)'}\n",
      "{'Flight No.': '111', 'Version Booster': 'F9 B5 ♺B1051.9', 'Launch Site': 'KSC,LC-39A', 'Payload': 'Starlink 21 v1.0 (60 satellites)', 'Payload mass': '15,600\\xa0kg (34,400\\xa0lb)', 'Orbit': 'LEO', 'Customer': 'SpaceX', 'Launch outcome': 'Success', 'Booster landing': 'Success(drone ship)'}\n",
      "{'Flight No.': '112', 'Version Booster': 'F9 B5 ♺B1060.6[643]', 'Launch Site': 'CCSFS,SLC-40', 'Payload': 'Starlink 22 v1.0 (60 satellites)', 'Payload mass': '15,600\\xa0kg (34,400\\xa0lb)', 'Orbit': 'LEO', 'Customer': 'SpaceX', 'Launch outcome': 'Success', 'Booster landing': 'Success(drone ship)'}\n",
      "{'Flight No.': '113', 'Version Booster': 'F9 B5 ♺B1058.7', 'Launch Site': 'CCSFS,SLC-40', 'Payload': 'Starlink 23 v1.0 (60 satellites)', 'Payload mass': '15,600\\xa0kg (34,400\\xa0lb)', 'Orbit': 'LEO', 'Customer': 'SpaceX', 'Launch outcome': 'Success', 'Booster landing': 'Success(drone ship)'}\n",
      "{'Flight No.': '114', 'Version Booster': 'F9 B5 ♺B1061.2[647]', 'Launch Site': 'KSC,LC-39A', 'Payload': 'Crew-2(Crew Dragon C206.2 Endeavour ♺)', 'Payload mass': '~13,000\\xa0kg (29,000\\xa0lb)[648]', 'Orbit': 'LEO (ISS)', 'Customer': 'NASA (CTS)[497]', 'Launch outcome': 'Success', 'Booster landing': 'Success(drone ship)'}\n",
      "{'Flight No.': '115', 'Version Booster': 'F9 B5 ♺B1060.7[652]', 'Launch Site': 'CCSFS,SLC-40', 'Payload': 'Starlink 24 v1.0 (60 satellites)', 'Payload mass': '15,600\\xa0kg (34,400\\xa0lb)', 'Orbit': 'LEO', 'Customer': 'SpaceX', 'Launch outcome': 'Success', 'Booster landing': 'Success(drone ship)'}\n",
      "{'Flight No.': '116', 'Version Booster': 'F9 B5 ♺B1049.9[655]', 'Launch Site': 'KSC,LC-39A', 'Payload': 'Starlink 25 v1.0 (60 satellites)', 'Payload mass': '15,600\\xa0kg (34,400\\xa0lb)', 'Orbit': 'LEO', 'Customer': 'SpaceX', 'Launch outcome': 'Success', 'Booster landing': 'Success(drone ship)'}\n",
      "{'Flight No.': '117', 'Version Booster': 'F9 B5 ♺B1051.10[657]', 'Launch Site': 'CCSFS,SLC-40', 'Payload': 'Starlink 27 v1.0 (60 satellites)', 'Payload mass': '15,600\\xa0kg (34,400\\xa0lb)', 'Orbit': 'LEO', 'Customer': 'SpaceX', 'Launch outcome': 'Success', 'Booster landing': 'Success(drone ship)'}\n",
      "{'Flight No.': '118', 'Version Booster': 'F9 B5 ♺B1058.8[660]', 'Launch Site': 'KSC,LC-39A[661]', 'Payload': 'Starlink 26 v1.0 (52 Satellites) Capella-6 &Tyvak-0130[662]', 'Payload mass': '~14,000\\xa0kg (31,000\\xa0lb)', 'Orbit': 'LEO', 'Customer': 'SpaceX Capella Space and Tyvak', 'Launch outcome': 'Success', 'Booster landing': 'Success(drone ship)'}\n",
      "{'Flight No.': '119', 'Version Booster': 'F9 B5 ♺B1063.2[665]', 'Launch Site': 'CCSFS,SLC-40[665]', 'Payload': 'Starlink 28 v1.0 (60 Satellites)[665]', 'Payload mass': '15,600\\xa0kg (34,400\\xa0lb)', 'Orbit': 'LEO', 'Customer': 'SpaceX', 'Launch outcome': 'Success', 'Booster landing': 'Success(drone ship)'}\n",
      "{'Flight No.': '120', 'Version Booster': 'F9 B5 B1067.1[668]', 'Launch Site': 'KSC,LC-39A', 'Payload': 'SpaceX CRS-22(Dragon C209.1)', 'Payload mass': '3,328\\xa0kg (7,337\\xa0lb)', 'Orbit': 'LEO (ISS)', 'Customer': 'NASA (CRS)', 'Launch outcome': 'Success', 'Booster landing': 'Success(drone ship)'}\n",
      "{'Flight No.': '121', 'Version Booster': 'F9 B5 ♺ B1061.3', 'Launch Site': 'CCSFS,SLC-40', 'Payload': 'SXM-8[674]', 'Payload mass': '7,000\\xa0kg (15,000\\xa0lb)', 'Orbit': 'GTO', 'Customer': 'Sirius XM', 'Launch outcome': 'Success', 'Booster landing': 'Success(drone ship)'}\n"
     ]
    }
   ],
   "source": [
    "# Initialize a list to store the extracted launch data\n",
    "launch_data = []\n",
    "\n",
    "# Extract each table\n",
    "for table_number, table in enumerate(soup.find_all('table', \"wikitable plainrowheaders collapsible\")):\n",
    "    # get table row\n",
    "    for rows in table.find_all(\"tr\"):\n",
    "        # check to see if first table heading is a number corresponding to launch a number\n",
    "        if rows.th:\n",
    "            if rows.th.string:\n",
    "                flight_number = rows.th.string.strip()\n",
    "                flag = flight_number.isdigit()\n",
    "        else:\n",
    "            flag = False\n",
    "        \n",
    "        # get table element\n",
    "        row = rows.find_all('td')\n",
    "        \n",
    "        # if it is a number, save cells in a dictionary\n",
    "        if flag:\n",
    "            launch_dict = {}\n",
    "\n",
    "            # Flight Number value\n",
    "            launch_dict[\"Flight No.\"] = flight_number\n",
    "            \n",
    "            # Date and Time value\n",
    "            date_time = row[0].text.strip()\n",
    "            date_time_list = date_time.split(',')\n",
    "            if len(date_time_list) == 2:\n",
    "                date = date_time_list[0].strip()\n",
    "                time = date_time_list[1].strip()\n",
    "                launch_dict[\"Date\"] = date\n",
    "                launch_dict[\"Time\"] = time\n",
    "            \n",
    "            # Booster version\n",
    "            bv = row[1].text.strip()\n",
    "            launch_dict[\"Version Booster\"] = bv\n",
    "            \n",
    "            # Launch Site\n",
    "            launch_site = row[2].text.strip()\n",
    "            launch_dict[\"Launch Site\"] = launch_site\n",
    "            \n",
    "            # Payload\n",
    "            payload = row[3].text.strip()\n",
    "            launch_dict[\"Payload\"] = payload\n",
    "            \n",
    "            # Payload Mass\n",
    "            payload_mass = row[4].text.strip()\n",
    "            launch_dict[\"Payload mass\"] = payload_mass\n",
    "            \n",
    "            # Orbit\n",
    "            orbit = row[5].text.strip()\n",
    "            launch_dict[\"Orbit\"] = orbit\n",
    "            \n",
    "            # Customer\n",
    "            customer = row[6].text.strip()\n",
    "            launch_dict[\"Customer\"] = customer\n",
    "            \n",
    "            # Launch outcome\n",
    "            launch_outcome = row[7].text.strip()\n",
    "            launch_dict[\"Launch outcome\"] = launch_outcome\n",
    "            \n",
    "            # Booster landing\n",
    "            booster_landing = row[8].text.strip()\n",
    "            launch_dict[\"Booster landing\"] = booster_landing\n",
    "\n",
    "            # Append the launch data to the list\n",
    "            launch_data.append(launch_dict)\n",
    "\n",
    "# Print the extracted launch data\n",
    "for launch in launch_data:\n",
    "    print(launch)\n"
   ]
  },
  {
   "cell_type": "markdown",
   "metadata": {},
   "source": [
    "After you have fill in the parsed launch record values into `launch_dict`, you can create a dataframe from it.\n"
   ]
  },
  {
   "cell_type": "code",
   "execution_count": 35,
   "metadata": {
    "tags": []
   },
   "outputs": [],
   "source": [
    "df= pd.DataFrame(launch_data)"
   ]
  },
  {
   "cell_type": "markdown",
   "metadata": {},
   "source": [
    "We can now export it to a <b>CSV</b> for the next section, but to make the answers consistent and in case you have difficulties finishing this lab. \n",
    "\n",
    "Following labs will be using a provided dataset to make each lab independent. \n"
   ]
  },
  {
   "cell_type": "markdown",
   "metadata": {},
   "source": [
    "<code>df.to_csv('spacex_web_scraped.csv', index=False)</code>\n"
   ]
  },
  {
   "cell_type": "code",
   "execution_count": 42,
   "metadata": {
    "tags": []
   },
   "outputs": [
    {
     "data": {
      "text/html": [
       "<div>\n",
       "<style scoped>\n",
       "    .dataframe tbody tr th:only-of-type {\n",
       "        vertical-align: middle;\n",
       "    }\n",
       "\n",
       "    .dataframe tbody tr th {\n",
       "        vertical-align: top;\n",
       "    }\n",
       "\n",
       "    .dataframe thead th {\n",
       "        text-align: right;\n",
       "    }\n",
       "</style>\n",
       "<table border=\"1\" class=\"dataframe\">\n",
       "  <thead>\n",
       "    <tr style=\"text-align: right;\">\n",
       "      <th></th>\n",
       "      <th>Flight No.</th>\n",
       "      <th>Date</th>\n",
       "      <th>Time</th>\n",
       "      <th>Version Booster</th>\n",
       "      <th>Launch Site</th>\n",
       "      <th>Payload</th>\n",
       "      <th>Payload mass</th>\n",
       "      <th>Orbit</th>\n",
       "      <th>Customer</th>\n",
       "      <th>Launch outcome</th>\n",
       "      <th>Booster landing</th>\n",
       "    </tr>\n",
       "  </thead>\n",
       "  <tbody>\n",
       "    <tr>\n",
       "      <th>0</th>\n",
       "      <td>1</td>\n",
       "      <td>4 June 2010</td>\n",
       "      <td>18:45</td>\n",
       "      <td>F9 v1.0[7]B0003.1[8]</td>\n",
       "      <td>CCAFS,SLC-40</td>\n",
       "      <td>Dragon Spacecraft Qualification Unit</td>\n",
       "      <td></td>\n",
       "      <td>LEO</td>\n",
       "      <td>SpaceX</td>\n",
       "      <td>Success</td>\n",
       "      <td>Failure[9][10](parachute)</td>\n",
       "    </tr>\n",
       "    <tr>\n",
       "      <th>1</th>\n",
       "      <td>2</td>\n",
       "      <td>8 December 2010</td>\n",
       "      <td>15:43[13]</td>\n",
       "      <td>F9 v1.0[7]B0004.1[8]</td>\n",
       "      <td>CCAFS,SLC-40</td>\n",
       "      <td>Dragon demo flight C1(Dragon C101)</td>\n",
       "      <td></td>\n",
       "      <td>LEO (ISS)</td>\n",
       "      <td>NASA (COTS)\\nNRO</td>\n",
       "      <td>Success[9]</td>\n",
       "      <td>Failure[9][14](parachute)</td>\n",
       "    </tr>\n",
       "    <tr>\n",
       "      <th>2</th>\n",
       "      <td>3</td>\n",
       "      <td>22 May 2012</td>\n",
       "      <td>07:44[17]</td>\n",
       "      <td>F9 v1.0[7]B0005.1[8]</td>\n",
       "      <td>CCAFS,SLC-40</td>\n",
       "      <td>Dragon demo flight C2+[18](Dragon C102)</td>\n",
       "      <td>525 kg (1,157 lb)[19]</td>\n",
       "      <td>LEO (ISS)</td>\n",
       "      <td>NASA (COTS)</td>\n",
       "      <td>Success[20]</td>\n",
       "      <td>No attempt</td>\n",
       "    </tr>\n",
       "    <tr>\n",
       "      <th>3</th>\n",
       "      <td>4</td>\n",
       "      <td>8 October 2012</td>\n",
       "      <td>00:35[21]</td>\n",
       "      <td>F9 v1.0[7]B0006.1[8]</td>\n",
       "      <td>CCAFS,SLC-40</td>\n",
       "      <td>SpaceX CRS-1[22](Dragon C103)</td>\n",
       "      <td>4,700 kg (10,400 lb)</td>\n",
       "      <td>LEO (ISS)</td>\n",
       "      <td>NASA (CRS)</td>\n",
       "      <td>Success</td>\n",
       "      <td>No attempt</td>\n",
       "    </tr>\n",
       "    <tr>\n",
       "      <th>4</th>\n",
       "      <td>5</td>\n",
       "      <td>1 March 2013</td>\n",
       "      <td>15:10</td>\n",
       "      <td>F9 v1.0[7]B0007.1[8]</td>\n",
       "      <td>CCAFS,SLC-40</td>\n",
       "      <td>SpaceX CRS-2[22](Dragon C104)</td>\n",
       "      <td>4,877 kg (10,752 lb)</td>\n",
       "      <td>LEO (ISS)</td>\n",
       "      <td>NASA (CRS)</td>\n",
       "      <td>Success</td>\n",
       "      <td>No attempt</td>\n",
       "    </tr>\n",
       "    <tr>\n",
       "      <th>...</th>\n",
       "      <td>...</td>\n",
       "      <td>...</td>\n",
       "      <td>...</td>\n",
       "      <td>...</td>\n",
       "      <td>...</td>\n",
       "      <td>...</td>\n",
       "      <td>...</td>\n",
       "      <td>...</td>\n",
       "      <td>...</td>\n",
       "      <td>...</td>\n",
       "      <td>...</td>\n",
       "    </tr>\n",
       "    <tr>\n",
       "      <th>116</th>\n",
       "      <td>117</td>\n",
       "      <td>NaN</td>\n",
       "      <td>NaN</td>\n",
       "      <td>F9 B5 ♺B1051.10[657]</td>\n",
       "      <td>CCSFS,SLC-40</td>\n",
       "      <td>Starlink 27 v1.0 (60 satellites)</td>\n",
       "      <td>15,600 kg (34,400 lb)</td>\n",
       "      <td>LEO</td>\n",
       "      <td>SpaceX</td>\n",
       "      <td>Success</td>\n",
       "      <td>Success(drone ship)</td>\n",
       "    </tr>\n",
       "    <tr>\n",
       "      <th>117</th>\n",
       "      <td>118</td>\n",
       "      <td>NaN</td>\n",
       "      <td>NaN</td>\n",
       "      <td>F9 B5 ♺B1058.8[660]</td>\n",
       "      <td>KSC,LC-39A[661]</td>\n",
       "      <td>Starlink 26 v1.0 (52 Satellites) Capella-6 &amp;Ty...</td>\n",
       "      <td>~14,000 kg (31,000 lb)</td>\n",
       "      <td>LEO</td>\n",
       "      <td>SpaceX Capella Space and Tyvak</td>\n",
       "      <td>Success</td>\n",
       "      <td>Success(drone ship)</td>\n",
       "    </tr>\n",
       "    <tr>\n",
       "      <th>118</th>\n",
       "      <td>119</td>\n",
       "      <td>NaN</td>\n",
       "      <td>NaN</td>\n",
       "      <td>F9 B5 ♺B1063.2[665]</td>\n",
       "      <td>CCSFS,SLC-40[665]</td>\n",
       "      <td>Starlink 28 v1.0 (60 Satellites)[665]</td>\n",
       "      <td>15,600 kg (34,400 lb)</td>\n",
       "      <td>LEO</td>\n",
       "      <td>SpaceX</td>\n",
       "      <td>Success</td>\n",
       "      <td>Success(drone ship)</td>\n",
       "    </tr>\n",
       "    <tr>\n",
       "      <th>119</th>\n",
       "      <td>120</td>\n",
       "      <td>NaN</td>\n",
       "      <td>NaN</td>\n",
       "      <td>F9 B5 B1067.1[668]</td>\n",
       "      <td>KSC,LC-39A</td>\n",
       "      <td>SpaceX CRS-22(Dragon C209.1)</td>\n",
       "      <td>3,328 kg (7,337 lb)</td>\n",
       "      <td>LEO (ISS)</td>\n",
       "      <td>NASA (CRS)</td>\n",
       "      <td>Success</td>\n",
       "      <td>Success(drone ship)</td>\n",
       "    </tr>\n",
       "    <tr>\n",
       "      <th>120</th>\n",
       "      <td>121</td>\n",
       "      <td>NaN</td>\n",
       "      <td>NaN</td>\n",
       "      <td>F9 B5 ♺ B1061.3</td>\n",
       "      <td>CCSFS,SLC-40</td>\n",
       "      <td>SXM-8[674]</td>\n",
       "      <td>7,000 kg (15,000 lb)</td>\n",
       "      <td>GTO</td>\n",
       "      <td>Sirius XM</td>\n",
       "      <td>Success</td>\n",
       "      <td>Success(drone ship)</td>\n",
       "    </tr>\n",
       "  </tbody>\n",
       "</table>\n",
       "<p>121 rows × 11 columns</p>\n",
       "</div>"
      ],
      "text/plain": [
       "    Flight No.             Date       Time       Version Booster  \\\n",
       "0            1      4 June 2010      18:45  F9 v1.0[7]B0003.1[8]   \n",
       "1            2  8 December 2010  15:43[13]  F9 v1.0[7]B0004.1[8]   \n",
       "2            3      22 May 2012  07:44[17]  F9 v1.0[7]B0005.1[8]   \n",
       "3            4   8 October 2012  00:35[21]  F9 v1.0[7]B0006.1[8]   \n",
       "4            5     1 March 2013      15:10  F9 v1.0[7]B0007.1[8]   \n",
       "..         ...              ...        ...                   ...   \n",
       "116        117              NaN        NaN  F9 B5 ♺B1051.10[657]   \n",
       "117        118              NaN        NaN   F9 B5 ♺B1058.8[660]   \n",
       "118        119              NaN        NaN   F9 B5 ♺B1063.2[665]   \n",
       "119        120              NaN        NaN    F9 B5 B1067.1[668]   \n",
       "120        121              NaN        NaN       F9 B5 ♺ B1061.3   \n",
       "\n",
       "           Launch Site                                            Payload  \\\n",
       "0         CCAFS,SLC-40               Dragon Spacecraft Qualification Unit   \n",
       "1         CCAFS,SLC-40                 Dragon demo flight C1(Dragon C101)   \n",
       "2         CCAFS,SLC-40            Dragon demo flight C2+[18](Dragon C102)   \n",
       "3         CCAFS,SLC-40                      SpaceX CRS-1[22](Dragon C103)   \n",
       "4         CCAFS,SLC-40                      SpaceX CRS-2[22](Dragon C104)   \n",
       "..                 ...                                                ...   \n",
       "116       CCSFS,SLC-40                   Starlink 27 v1.0 (60 satellites)   \n",
       "117    KSC,LC-39A[661]  Starlink 26 v1.0 (52 Satellites) Capella-6 &Ty...   \n",
       "118  CCSFS,SLC-40[665]              Starlink 28 v1.0 (60 Satellites)[665]   \n",
       "119         KSC,LC-39A                       SpaceX CRS-22(Dragon C209.1)   \n",
       "120       CCSFS,SLC-40                                         SXM-8[674]   \n",
       "\n",
       "               Payload mass      Orbit                        Customer  \\\n",
       "0                                  LEO                          SpaceX   \n",
       "1                            LEO (ISS)                NASA (COTS)\\nNRO   \n",
       "2     525 kg (1,157 lb)[19]  LEO (ISS)                     NASA (COTS)   \n",
       "3      4,700 kg (10,400 lb)  LEO (ISS)                      NASA (CRS)   \n",
       "4      4,877 kg (10,752 lb)  LEO (ISS)                      NASA (CRS)   \n",
       "..                      ...        ...                             ...   \n",
       "116   15,600 kg (34,400 lb)        LEO                          SpaceX   \n",
       "117  ~14,000 kg (31,000 lb)        LEO  SpaceX Capella Space and Tyvak   \n",
       "118   15,600 kg (34,400 lb)        LEO                          SpaceX   \n",
       "119     3,328 kg (7,337 lb)  LEO (ISS)                      NASA (CRS)   \n",
       "120    7,000 kg (15,000 lb)        GTO                       Sirius XM   \n",
       "\n",
       "    Launch outcome            Booster landing  \n",
       "0          Success  Failure[9][10](parachute)  \n",
       "1       Success[9]  Failure[9][14](parachute)  \n",
       "2      Success[20]                 No attempt  \n",
       "3          Success                 No attempt  \n",
       "4          Success                 No attempt  \n",
       "..             ...                        ...  \n",
       "116        Success        Success(drone ship)  \n",
       "117        Success        Success(drone ship)  \n",
       "118        Success        Success(drone ship)  \n",
       "119        Success        Success(drone ship)  \n",
       "120        Success        Success(drone ship)  \n",
       "\n",
       "[121 rows x 11 columns]"
      ]
     },
     "execution_count": 42,
     "metadata": {},
     "output_type": "execute_result"
    }
   ],
   "source": [
    "df.to_csv('spacex_web_scraped.csv', index=False)\n",
    "df"
   ]
  },
  {
   "cell_type": "markdown",
   "metadata": {},
   "source": [
    "## Authors\n"
   ]
  },
  {
   "cell_type": "markdown",
   "metadata": {},
   "source": [
    "<a href=\"https://www.linkedin.com/in/yan-luo-96288783/\">Yan Luo</a>\n"
   ]
  },
  {
   "cell_type": "markdown",
   "metadata": {},
   "source": [
    "<a href=\"https://www.linkedin.com/in/nayefaboutayoun/\">Nayef Abou Tayoun</a>\n"
   ]
  },
  {
   "cell_type": "markdown",
   "metadata": {},
   "source": [
    "## Change Log\n"
   ]
  },
  {
   "cell_type": "markdown",
   "metadata": {},
   "source": [
    "| Date (YYYY-MM-DD) | Version | Changed By | Change Description      |\n",
    "| ----------------- | ------- | ---------- | ----------------------- |\n",
    "| 2021-06-09        | 1.0     | Yan Luo    | Tasks updates           |\n",
    "| 2020-11-10        | 1.0     | Nayef      | Created the initial version |\n"
   ]
  },
  {
   "cell_type": "markdown",
   "metadata": {},
   "source": [
    "Copyright © 2021 IBM Corporation. All rights reserved.\n"
   ]
  }
 ],
 "metadata": {
  "kernelspec": {
   "display_name": "Python",
   "language": "python",
   "name": "conda-env-python-py"
  },
  "language_info": {
   "codemirror_mode": {
    "name": "ipython",
    "version": 3
   },
   "file_extension": ".py",
   "mimetype": "text/x-python",
   "name": "python",
   "nbconvert_exporter": "python",
   "pygments_lexer": "ipython3",
   "version": "3.7.12"
  }
 },
 "nbformat": 4,
 "nbformat_minor": 4
}
